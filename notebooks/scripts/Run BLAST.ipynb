{
 "cells": [
  {
   "cell_type": "code",
   "execution_count": 1,
   "id": "f861cb88",
   "metadata": {},
   "outputs": [],
   "source": [
    "from Bio.Blast import NCBIWWW\n",
    "from Bio.Blast import NCBIXML\n",
    "from Bio import SeqIO \n",
    "import pandas as pd\n",
    "from Bio import Entrez\n",
    "import matplotlib.pyplot as plt"
   ]
  },
  {
   "cell_type": "markdown",
   "id": "90408884",
   "metadata": {},
   "source": [
    "# Import the sequence(s)"
   ]
  },
  {
   "cell_type": "code",
   "execution_count": 3,
   "id": "c898d5b5",
   "metadata": {},
   "outputs": [
    {
     "data": {
      "text/plain": [
       "Seq('TCCCAAGCCAAGGAAGGTTATGC', SingleLetterAlphabet())"
      ]
     },
     "execution_count": 3,
     "metadata": {},
     "output_type": "execute_result"
    }
   ],
   "source": [
    "seq_record = SeqIO.read('sequences/pathogens/house_keeping.fa','fasta')\n",
    "#seq_record.id \n",
    "seq_record.seq "
   ]
  },
  {
   "cell_type": "code",
   "execution_count": 4,
   "id": "e746ad1a",
   "metadata": {},
   "outputs": [
    {
     "data": {
      "text/plain": [
       "'AGGGTTCGGTTCCTTCCAATACG'"
      ]
     },
     "execution_count": 4,
     "metadata": {},
     "output_type": "execute_result"
    }
   ],
   "source": [
    "complement(seq_record.seq)"
   ]
  },
  {
   "cell_type": "markdown",
   "id": "9b2ee103",
   "metadata": {},
   "source": [
    "## Get the complement sequence"
   ]
  },
  {
   "cell_type": "code",
   "execution_count": 2,
   "id": "b251f7c6",
   "metadata": {},
   "outputs": [],
   "source": [
    "def complement(seq):\n",
    "    complement = {'A': 'T', 'C': 'G', 'G': 'C', 'T': 'A','a': 't', 'c': 'g', 'g': 'c', 't': 'a'} \n",
    "    bases = list(seq) \n",
    "    bases = [complement[base] for base in bases] \n",
    "    return ''.join(bases)"
   ]
  },
  {
   "cell_type": "code",
   "execution_count": 3,
   "id": "d8646864",
   "metadata": {},
   "outputs": [
    {
     "data": {
      "text/plain": [
       "'CCCGGGGACCTTGTCTTGAAGGTC'"
      ]
     },
     "execution_count": 3,
     "metadata": {},
     "output_type": "execute_result"
    }
   ],
   "source": [
    "complement('GGGCCCCTGGAACAGAACTTCCAG')"
   ]
  },
  {
   "cell_type": "markdown",
   "id": "e384f297",
   "metadata": {},
   "source": [
    "## Multiple sequences"
   ]
  },
  {
   "cell_type": "code",
   "execution_count": 10,
   "id": "6f6cdd51",
   "metadata": {},
   "outputs": [
    {
     "name": "stdout",
     "output_type": "stream",
     "text": [
      "17\n"
     ]
    }
   ],
   "source": [
    "sequ = list(SeqIO.parse('../sequences/new_sequences/corrected.fa','fasta'))\n",
    "sequ[0].seq\n",
    "\n",
    "seq = []\n",
    "\n",
    "for i in sequ:\n",
    "    #seq.append(complement(i.seq))\n",
    "    seq.append(i.seq)\n",
    "    \n",
    "print(len(sequ))"
   ]
  },
  {
   "cell_type": "code",
   "execution_count": 32,
   "id": "fc599802",
   "metadata": {},
   "outputs": [
    {
     "name": "stdout",
     "output_type": "stream",
     "text": [
      "tgcgatgttgtaccttaatagcgatctt\n",
      "ttctagcgataattccatgttgtagcgt\n"
     ]
    }
   ],
   "source": [
    "bases = ''.join(list(reversed('ttctagcgataattccatgttgtagcgt')))\n",
    "print(bases)\n",
    "print('ttctagcgataattccatgttgtagcgt')"
   ]
  },
  {
   "cell_type": "code",
   "execution_count": 36,
   "id": "929a771e",
   "metadata": {},
   "outputs": [
    {
     "name": "stdout",
     "output_type": "stream",
     "text": [
      "CGGTTTCTCCCCCTGGAAGCCCGGAGAG\n"
     ]
    }
   ],
   "source": [
    "print(complement('GCCAAAGAGGGGGACCTTCGGGCCTCTC'))"
   ]
  },
  {
   "cell_type": "code",
   "execution_count": 11,
   "id": "30131da9",
   "metadata": {},
   "outputs": [
    {
     "data": {
      "text/html": [
       "<div>\n",
       "<style scoped>\n",
       "    .dataframe tbody tr th:only-of-type {\n",
       "        vertical-align: middle;\n",
       "    }\n",
       "\n",
       "    .dataframe tbody tr th {\n",
       "        vertical-align: top;\n",
       "    }\n",
       "\n",
       "    .dataframe thead th {\n",
       "        text-align: right;\n",
       "    }\n",
       "</style>\n",
       "<table border=\"1\" class=\"dataframe\">\n",
       "  <thead>\n",
       "    <tr style=\"text-align: right;\">\n",
       "      <th></th>\n",
       "      <th>ID</th>\n",
       "      <th>Seq</th>\n",
       "    </tr>\n",
       "  </thead>\n",
       "  <tbody>\n",
       "    <tr>\n",
       "      <th>0</th>\n",
       "      <td>16s_E.coli_1</td>\n",
       "      <td>(g, a, a, a, t, t, a, a, t, a, c, g, a, c, t, ...</td>\n",
       "    </tr>\n",
       "    <tr>\n",
       "      <th>1</th>\n",
       "      <td>Guide_VAM</td>\n",
       "      <td>(A, T, A, A, A, G, G, T, T, T, G, C, C, T, G, ...</td>\n",
       "    </tr>\n",
       "    <tr>\n",
       "      <th>2</th>\n",
       "      <td>Guide_Hsp70</td>\n",
       "      <td>(A, A, C, A, A, C, A, C, A, A, T, T, T, T, T, ...</td>\n",
       "    </tr>\n",
       "    <tr>\n",
       "      <th>3</th>\n",
       "      <td>Guide_SD</td>\n",
       "      <td>(G, T, T, T, T, G, T, G, T, C, T, G, C, C, A, ...</td>\n",
       "    </tr>\n",
       "    <tr>\n",
       "      <th>4</th>\n",
       "      <td>Guide_IL17</td>\n",
       "      <td>(T, A, G, C, A, G, A, C, T, C, G, G, C, C, G, ...</td>\n",
       "    </tr>\n",
       "    <tr>\n",
       "      <th>5</th>\n",
       "      <td>Guide_16s03</td>\n",
       "      <td>(C, A, A, A, A, G, C, T, T, G, C, T, T, T, T, ...</td>\n",
       "    </tr>\n",
       "    <tr>\n",
       "      <th>6</th>\n",
       "      <td>Guide_16s04</td>\n",
       "      <td>(G, C, C, A, A, A, G, A, G, G, G, G, G, A, C, ...</td>\n",
       "    </tr>\n",
       "    <tr>\n",
       "      <th>7</th>\n",
       "      <td>G_07</td>\n",
       "      <td>(T, G, A, T, A, G, A, A, A, T, C, A, A, G, G, ...</td>\n",
       "    </tr>\n",
       "    <tr>\n",
       "      <th>8</th>\n",
       "      <td>G_09</td>\n",
       "      <td>(A, C, A, T, T, T, T, C, G, G, T, G, A, T, G, ...</td>\n",
       "    </tr>\n",
       "    <tr>\n",
       "      <th>9</th>\n",
       "      <td>G_10</td>\n",
       "      <td>(A, C, G, C, T, A, C, A, A, C, A, T, G, G, A, ...</td>\n",
       "    </tr>\n",
       "    <tr>\n",
       "      <th>10</th>\n",
       "      <td>Guide_RNT_toxR</td>\n",
       "      <td>(A, G, T, G, G, A, A, G, A, A, T, T, C, A, A, ...</td>\n",
       "    </tr>\n",
       "    <tr>\n",
       "      <th>11</th>\n",
       "      <td>Housekeepinggeneoyster:40S</td>\n",
       "      <td>(G, G, T, A, T, C, A, T, T, T, T, T, T, A, C, ...</td>\n",
       "    </tr>\n",
       "    <tr>\n",
       "      <th>12</th>\n",
       "      <td>Housekeepinggenemussel:EF1-alphaÂ</td>\n",
       "      <td>(A, T, A, T, T, G, C, C, T, G, T, A, A, A, T, ...</td>\n",
       "    </tr>\n",
       "    <tr>\n",
       "      <th>13</th>\n",
       "      <td>Tigriopusfulvuscopepods</td>\n",
       "      <td>(A, G, T, A, C, A, C, T, T, T, A, A, A, A, C, ...</td>\n",
       "    </tr>\n",
       "    <tr>\n",
       "      <th>14</th>\n",
       "      <td>Housekeepinggeneoyster:60S</td>\n",
       "      <td>(G, T, T, T, T, T, T, A, C, T, G, T, A, A, T, ...</td>\n",
       "    </tr>\n",
       "    <tr>\n",
       "      <th>15</th>\n",
       "      <td>flaA</td>\n",
       "      <td>(C, A, A, C, G, A, T, G, G, T, A, T, T, T, C, ...</td>\n",
       "    </tr>\n",
       "    <tr>\n",
       "      <th>16</th>\n",
       "      <td>vspR</td>\n",
       "      <td>(A, T, T, C, T, T, A, T, T, T, A, T, G, G, T, ...</td>\n",
       "    </tr>\n",
       "  </tbody>\n",
       "</table>\n",
       "</div>"
      ],
      "text/plain": [
       "                                   ID  \\\n",
       "0                        16s_E.coli_1   \n",
       "1                           Guide_VAM   \n",
       "2                         Guide_Hsp70   \n",
       "3                            Guide_SD   \n",
       "4                          Guide_IL17   \n",
       "5                         Guide_16s03   \n",
       "6                         Guide_16s04   \n",
       "7                                G_07   \n",
       "8                                G_09   \n",
       "9                                G_10   \n",
       "10                     Guide_RNT_toxR   \n",
       "11         Housekeepinggeneoyster:40S   \n",
       "12  Housekeepinggenemussel:EF1-alphaÂ   \n",
       "13            Tigriopusfulvuscopepods   \n",
       "14         Housekeepinggeneoyster:60S   \n",
       "15                               flaA   \n",
       "16                               vspR   \n",
       "\n",
       "                                                  Seq  \n",
       "0   (g, a, a, a, t, t, a, a, t, a, c, g, a, c, t, ...  \n",
       "1   (A, T, A, A, A, G, G, T, T, T, G, C, C, T, G, ...  \n",
       "2   (A, A, C, A, A, C, A, C, A, A, T, T, T, T, T, ...  \n",
       "3   (G, T, T, T, T, G, T, G, T, C, T, G, C, C, A, ...  \n",
       "4   (T, A, G, C, A, G, A, C, T, C, G, G, C, C, G, ...  \n",
       "5   (C, A, A, A, A, G, C, T, T, G, C, T, T, T, T, ...  \n",
       "6   (G, C, C, A, A, A, G, A, G, G, G, G, G, A, C, ...  \n",
       "7   (T, G, A, T, A, G, A, A, A, T, C, A, A, G, G, ...  \n",
       "8   (A, C, A, T, T, T, T, C, G, G, T, G, A, T, G, ...  \n",
       "9   (A, C, G, C, T, A, C, A, A, C, A, T, G, G, A, ...  \n",
       "10  (A, G, T, G, G, A, A, G, A, A, T, T, C, A, A, ...  \n",
       "11  (G, G, T, A, T, C, A, T, T, T, T, T, T, A, C, ...  \n",
       "12  (A, T, A, T, T, G, C, C, T, G, T, A, A, A, T, ...  \n",
       "13  (A, G, T, A, C, A, C, T, T, T, A, A, A, A, C, ...  \n",
       "14  (G, T, T, T, T, T, T, A, C, T, G, T, A, A, T, ...  \n",
       "15  (C, A, A, C, G, A, T, G, G, T, A, T, T, T, C, ...  \n",
       "16  (A, T, T, C, T, T, A, T, T, T, A, T, G, G, T, ...  "
      ]
     },
     "execution_count": 11,
     "metadata": {},
     "output_type": "execute_result"
    }
   ],
   "source": [
    "df = pd.DataFrame()\n",
    "\n",
    "df['ID'] = [sequ[i].id for i in range(len(seq))]\n",
    "df['Seq'] = [seq[i] for i in range(len(seq))]\n",
    "\n",
    "#df.iloc[1]\n",
    "df"
   ]
  },
  {
   "cell_type": "markdown",
   "id": "0431a594",
   "metadata": {},
   "source": [
    "# Call blast from the NCBI website"
   ]
  },
  {
   "cell_type": "code",
   "execution_count": 12,
   "id": "42a07f92",
   "metadata": {},
   "outputs": [
    {
     "name": "stdout",
     "output_type": "stream",
     "text": [
      "Trying sequence number ID: vspR\n",
      "Name: vspR\n",
      "Description: vspR\n",
      "Number of features: 0\n",
      "Seq('ATTCTTATTTATGGTGAAAGTGGTACTGGTTTTAGTCCCCTTCGTTTTTG', SingleLetterAlphabet())...\n",
      "Done with sequence ID: vspR\n",
      "Name: vspR\n",
      "Description: vspR\n",
      "Number of features: 0\n",
      "Seq('ATTCTTATTTATGGTGAAAGTGGTACTGGTTTTAGTCCCCTTCGTTTTTG', SingleLetterAlphabet()) !\n"
     ]
    }
   ],
   "source": [
    "result_handle = []\n",
    "\n",
    "Entrez.email = 'ness.louafi@gmail.com'\n",
    "\n",
    "print('Trying sequence number ' + str(i)+'...')\n",
    "result_handle.append(NCBIWWW.qblast(\"blastn\", \"nt\", seq[0], hitlist_size = 20,expect=0.05))\n",
    "print('Done with sequence ' + str(i) + ' !')"
   ]
  },
  {
   "cell_type": "code",
   "execution_count": 13,
   "id": "cbf1a74a",
   "metadata": {},
   "outputs": [
    {
     "name": "stdout",
     "output_type": "stream",
     "text": [
      "\n",
      "\n",
      "results0\n",
      "match: | Leptotrichia wadei JMUB3933 DNA, complete genome \n",
      "e value: 2.21633e-05\n",
      "match: | Leptotrichia wadei JMUB3933 DNA, complete genome \n",
      "e value: 7.73576e-05\n",
      "match: | Leptotrichia wadei JMUB3933 DNA, complete genome \n",
      "e value: 7.73576e-05\n",
      "match: | Leptotrichia wadei JMUB3933 DNA, complete genome \n",
      "e value: 0.000270004\n",
      "match: | Leptotrichia wadei JMUB3933 DNA, complete genome \n",
      "e value: 0.0114809\n",
      "match: | Leptotrichia wadei JMUB3933 DNA, complete genome \n",
      "e value: 0.0114809\n",
      "match: Leptotrichia buccalis DSM 1135, complete genome \n",
      "e value: 2.21633e-05\n",
      "match: Leptotrichia buccalis DSM 1135, complete genome \n",
      "e value: 0.00328933\n",
      "match: | Leptotrichia trevisanii JMUB4039 DNA, complete genome \n",
      "e value: 7.73576e-05\n",
      "match: | Leptotrichia trevisanii JMUB4039 DNA, complete genome \n",
      "e value: 0.000270004\n",
      "match: | Leptotrichia trevisanii JMUB4039 DNA, complete genome \n",
      "e value: 0.000942408\n",
      "match: | Leptotrichia wadei JMUB3934 DNA, complete genome \n",
      "e value: 7.73576e-05\n",
      "match:  Proteus vulgaris strain HH17 chromosome, complete genome \n",
      "e value: 0.00328933\n",
      "match:  Aeromonas hydrophila strain AG 16S ribosomal RNA gene, partial sequence \n",
      "e value: 0.00328933\n",
      "match:  Escherichia coli strain L-Pink 16S ribosomal RNA gene, partial sequence \n",
      "e value: 0.00328933\n",
      "match:  Hafnia alvei strain pvc4 16S ribosomal RNA gene, partial sequence \n",
      "e value: 0.00328933\n",
      "match:  Uncultured Aeromonas sp. clone LA1-13 16S ribosomal RNA gene, partial sequence \n",
      "e value: 0.00328933\n",
      "match:  Uncultured Aeromonas sp. clone WLA2-28 16S ribosomal RNA gene, partial sequence \n",
      "e value: 0.00328933\n",
      "match:  Salmonella enterica subsp. enterica serovar 1,4,[5],12:i:- strain PNCS014860 chromosome, co \n",
      "e value: 0.00328933\n",
      "match:  Salmonella enterica subsp. enterica serovar 1,4,[5],12:i:- strain PNCS014860 chromosome, co \n",
      "e value: 0.0114809\n",
      "match:  Salmonella enterica subsp. enterica serovar 1,4,[5],12:i:- strain PNCS014860 chromosome, co \n",
      "e value: 0.0114809\n",
      "match:  Salmonella enterica subsp. enterica serovar 1,4,[5],12:i:- strain PNCS014860 chromosome, co \n",
      "e value: 0.0114809\n",
      "match:  Salmonella enterica subsp. enterica serovar 1,4,[5],12:i:- strain PNCS014860 chromosome, co \n",
      "e value: 0.0114809\n",
      "match:  Pseudomonas sp. strain FKES/SRLAAH/2017 16S ribosomal RNA gene, partial sequence \n",
      "e value: 0.00328933\n",
      "match:  Citrobacter freundii strain JF5 16S ribosomal RNA gene, partial sequence \n",
      "e value: 0.00328933\n",
      "match:  Pseudomonas chlororaphis strain BHUA16 16S ribosomal RNA gene, partial sequence \n",
      "e value: 0.00328933\n",
      "match:  Pseudomonas frederiksbergensis strain N30R 16S ribosomal RNA gene, partial sequence \n",
      "e value: 0.00328933\n",
      "match:  Providencia vermicola strain G1 16S ribosomal RNA gene, partial sequence \n",
      "e value: 0.00328933\n",
      "match:  Citrobacter freundii strain J11 16S ribosomal RNA gene, partial sequence \n",
      "e value: 0.00328933\n",
      "match:  Pseudomonas granadensis strain SE21 16S ribosomal RNA gene, partial sequence \n",
      "e value: 0.00328933\n",
      "match:  Klebsiella pneumoniae strain 556 16S ribosomal RNA gene, partial sequence \n",
      "e value: 0.00328933\n"
     ]
    }
   ],
   "source": [
    "for i in range(len(result_handle)):\n",
    "    with open('../results/new_sequences/test.xml', 'w') as save_file: \n",
    "        blast_results = result_handle[i].read() \n",
    "        save_file.write(blast_results)  \n",
    "\n",
    "for i in range(len(result_handle)):\n",
    "    for record in NCBIXML.parse(open('../results/new_sequences/test.xml')): \n",
    "         if record.alignments: \n",
    "            print(\"\\n\") \n",
    "            #print(df['ID'][i])\n",
    "            print(\"results\"+str(i))\n",
    "            for align in record.alignments: \n",
    "                for hsp in align.hsps: \n",
    "                    if hsp.expect < 100:\n",
    "\n",
    "                        print(\"match: %s \" % align.title[28:120])\n",
    "                        print('e value:', hsp.expect)"
   ]
  },
  {
   "cell_type": "code",
   "execution_count": 8,
   "id": "38161649",
   "metadata": {
    "scrolled": true
   },
   "outputs": [
    {
     "name": "stdout",
     "output_type": "stream",
     "text": [
      "Trying sequence number 0...\n",
      "Done with sequence 0 !\n",
      "Trying sequence number 1...\n",
      "Done with sequence 1 !\n",
      "Trying sequence number 2...\n",
      "Done with sequence 2 !\n",
      "Trying sequence number 3...\n",
      "Done with sequence 3 !\n",
      "Trying sequence number 4...\n",
      "Done with sequence 4 !\n",
      "Trying sequence number 5...\n",
      "Done with sequence 5 !\n",
      "Trying sequence number 6...\n",
      "Done with sequence 6 !\n",
      "Trying sequence number 7...\n",
      "Done with sequence 7 !\n",
      "Trying sequence number 8...\n",
      "Done with sequence 8 !\n",
      "Trying sequence number 9...\n",
      "Done with sequence 9 !\n",
      "Trying sequence number 10...\n",
      "Done with sequence 10 !\n",
      "Trying sequence number 11...\n",
      "Done with sequence 11 !\n",
      "Trying sequence number 12...\n",
      "Done with sequence 12 !\n",
      "Trying sequence number 13...\n",
      "Done with sequence 13 !\n",
      "Trying sequence number 14...\n",
      "Done with sequence 14 !\n",
      "Trying sequence number 15...\n"
     ]
    },
    {
     "ename": "URLError",
     "evalue": "<urlopen error [Errno 11001] getaddrinfo failed>",
     "output_type": "error",
     "traceback": [
      "\u001b[1;31m---------------------------------------------------------------------------\u001b[0m",
      "\u001b[1;31mgaierror\u001b[0m                                  Traceback (most recent call last)",
      "\u001b[1;32m~\\anaconda3\\lib\\urllib\\request.py\u001b[0m in \u001b[0;36mdo_open\u001b[1;34m(self, http_class, req, **http_conn_args)\u001b[0m\n\u001b[0;32m   1353\u001b[0m             \u001b[1;32mtry\u001b[0m\u001b[1;33m:\u001b[0m\u001b[1;33m\u001b[0m\u001b[1;33m\u001b[0m\u001b[0m\n\u001b[1;32m-> 1354\u001b[1;33m                 h.request(req.get_method(), req.selector, req.data, headers,\n\u001b[0m\u001b[0;32m   1355\u001b[0m                           encode_chunked=req.has_header('Transfer-encoding'))\n",
      "\u001b[1;32m~\\anaconda3\\lib\\http\\client.py\u001b[0m in \u001b[0;36mrequest\u001b[1;34m(self, method, url, body, headers, encode_chunked)\u001b[0m\n\u001b[0;32m   1255\u001b[0m         \u001b[1;34m\"\"\"Send a complete request to the server.\"\"\"\u001b[0m\u001b[1;33m\u001b[0m\u001b[1;33m\u001b[0m\u001b[0m\n\u001b[1;32m-> 1256\u001b[1;33m         \u001b[0mself\u001b[0m\u001b[1;33m.\u001b[0m\u001b[0m_send_request\u001b[0m\u001b[1;33m(\u001b[0m\u001b[0mmethod\u001b[0m\u001b[1;33m,\u001b[0m \u001b[0murl\u001b[0m\u001b[1;33m,\u001b[0m \u001b[0mbody\u001b[0m\u001b[1;33m,\u001b[0m \u001b[0mheaders\u001b[0m\u001b[1;33m,\u001b[0m \u001b[0mencode_chunked\u001b[0m\u001b[1;33m)\u001b[0m\u001b[1;33m\u001b[0m\u001b[1;33m\u001b[0m\u001b[0m\n\u001b[0m\u001b[0;32m   1257\u001b[0m \u001b[1;33m\u001b[0m\u001b[0m\n",
      "\u001b[1;32m~\\anaconda3\\lib\\http\\client.py\u001b[0m in \u001b[0;36m_send_request\u001b[1;34m(self, method, url, body, headers, encode_chunked)\u001b[0m\n\u001b[0;32m   1301\u001b[0m             \u001b[0mbody\u001b[0m \u001b[1;33m=\u001b[0m \u001b[0m_encode\u001b[0m\u001b[1;33m(\u001b[0m\u001b[0mbody\u001b[0m\u001b[1;33m,\u001b[0m \u001b[1;34m'body'\u001b[0m\u001b[1;33m)\u001b[0m\u001b[1;33m\u001b[0m\u001b[1;33m\u001b[0m\u001b[0m\n\u001b[1;32m-> 1302\u001b[1;33m         \u001b[0mself\u001b[0m\u001b[1;33m.\u001b[0m\u001b[0mendheaders\u001b[0m\u001b[1;33m(\u001b[0m\u001b[0mbody\u001b[0m\u001b[1;33m,\u001b[0m \u001b[0mencode_chunked\u001b[0m\u001b[1;33m=\u001b[0m\u001b[0mencode_chunked\u001b[0m\u001b[1;33m)\u001b[0m\u001b[1;33m\u001b[0m\u001b[1;33m\u001b[0m\u001b[0m\n\u001b[0m\u001b[0;32m   1303\u001b[0m \u001b[1;33m\u001b[0m\u001b[0m\n",
      "\u001b[1;32m~\\anaconda3\\lib\\http\\client.py\u001b[0m in \u001b[0;36mendheaders\u001b[1;34m(self, message_body, encode_chunked)\u001b[0m\n\u001b[0;32m   1250\u001b[0m             \u001b[1;32mraise\u001b[0m \u001b[0mCannotSendHeader\u001b[0m\u001b[1;33m(\u001b[0m\u001b[1;33m)\u001b[0m\u001b[1;33m\u001b[0m\u001b[1;33m\u001b[0m\u001b[0m\n\u001b[1;32m-> 1251\u001b[1;33m         \u001b[0mself\u001b[0m\u001b[1;33m.\u001b[0m\u001b[0m_send_output\u001b[0m\u001b[1;33m(\u001b[0m\u001b[0mmessage_body\u001b[0m\u001b[1;33m,\u001b[0m \u001b[0mencode_chunked\u001b[0m\u001b[1;33m=\u001b[0m\u001b[0mencode_chunked\u001b[0m\u001b[1;33m)\u001b[0m\u001b[1;33m\u001b[0m\u001b[1;33m\u001b[0m\u001b[0m\n\u001b[0m\u001b[0;32m   1252\u001b[0m \u001b[1;33m\u001b[0m\u001b[0m\n",
      "\u001b[1;32m~\\anaconda3\\lib\\http\\client.py\u001b[0m in \u001b[0;36m_send_output\u001b[1;34m(self, message_body, encode_chunked)\u001b[0m\n\u001b[0;32m   1010\u001b[0m         \u001b[1;32mdel\u001b[0m \u001b[0mself\u001b[0m\u001b[1;33m.\u001b[0m\u001b[0m_buffer\u001b[0m\u001b[1;33m[\u001b[0m\u001b[1;33m:\u001b[0m\u001b[1;33m]\u001b[0m\u001b[1;33m\u001b[0m\u001b[1;33m\u001b[0m\u001b[0m\n\u001b[1;32m-> 1011\u001b[1;33m         \u001b[0mself\u001b[0m\u001b[1;33m.\u001b[0m\u001b[0msend\u001b[0m\u001b[1;33m(\u001b[0m\u001b[0mmsg\u001b[0m\u001b[1;33m)\u001b[0m\u001b[1;33m\u001b[0m\u001b[1;33m\u001b[0m\u001b[0m\n\u001b[0m\u001b[0;32m   1012\u001b[0m \u001b[1;33m\u001b[0m\u001b[0m\n",
      "\u001b[1;32m~\\anaconda3\\lib\\http\\client.py\u001b[0m in \u001b[0;36msend\u001b[1;34m(self, data)\u001b[0m\n\u001b[0;32m    950\u001b[0m             \u001b[1;32mif\u001b[0m \u001b[0mself\u001b[0m\u001b[1;33m.\u001b[0m\u001b[0mauto_open\u001b[0m\u001b[1;33m:\u001b[0m\u001b[1;33m\u001b[0m\u001b[1;33m\u001b[0m\u001b[0m\n\u001b[1;32m--> 951\u001b[1;33m                 \u001b[0mself\u001b[0m\u001b[1;33m.\u001b[0m\u001b[0mconnect\u001b[0m\u001b[1;33m(\u001b[0m\u001b[1;33m)\u001b[0m\u001b[1;33m\u001b[0m\u001b[1;33m\u001b[0m\u001b[0m\n\u001b[0m\u001b[0;32m    952\u001b[0m             \u001b[1;32melse\u001b[0m\u001b[1;33m:\u001b[0m\u001b[1;33m\u001b[0m\u001b[1;33m\u001b[0m\u001b[0m\n",
      "\u001b[1;32m~\\anaconda3\\lib\\http\\client.py\u001b[0m in \u001b[0;36mconnect\u001b[1;34m(self)\u001b[0m\n\u001b[0;32m   1417\u001b[0m \u001b[1;33m\u001b[0m\u001b[0m\n\u001b[1;32m-> 1418\u001b[1;33m             \u001b[0msuper\u001b[0m\u001b[1;33m(\u001b[0m\u001b[1;33m)\u001b[0m\u001b[1;33m.\u001b[0m\u001b[0mconnect\u001b[0m\u001b[1;33m(\u001b[0m\u001b[1;33m)\u001b[0m\u001b[1;33m\u001b[0m\u001b[1;33m\u001b[0m\u001b[0m\n\u001b[0m\u001b[0;32m   1419\u001b[0m \u001b[1;33m\u001b[0m\u001b[0m\n",
      "\u001b[1;32m~\\anaconda3\\lib\\http\\client.py\u001b[0m in \u001b[0;36mconnect\u001b[1;34m(self)\u001b[0m\n\u001b[0;32m    921\u001b[0m         \u001b[1;34m\"\"\"Connect to the host and port specified in __init__.\"\"\"\u001b[0m\u001b[1;33m\u001b[0m\u001b[1;33m\u001b[0m\u001b[0m\n\u001b[1;32m--> 922\u001b[1;33m         self.sock = self._create_connection(\n\u001b[0m\u001b[0;32m    923\u001b[0m             (self.host,self.port), self.timeout, self.source_address)\n",
      "\u001b[1;32m~\\anaconda3\\lib\\socket.py\u001b[0m in \u001b[0;36mcreate_connection\u001b[1;34m(address, timeout, source_address)\u001b[0m\n\u001b[0;32m    786\u001b[0m     \u001b[0merr\u001b[0m \u001b[1;33m=\u001b[0m \u001b[1;32mNone\u001b[0m\u001b[1;33m\u001b[0m\u001b[1;33m\u001b[0m\u001b[0m\n\u001b[1;32m--> 787\u001b[1;33m     \u001b[1;32mfor\u001b[0m \u001b[0mres\u001b[0m \u001b[1;32min\u001b[0m \u001b[0mgetaddrinfo\u001b[0m\u001b[1;33m(\u001b[0m\u001b[0mhost\u001b[0m\u001b[1;33m,\u001b[0m \u001b[0mport\u001b[0m\u001b[1;33m,\u001b[0m \u001b[1;36m0\u001b[0m\u001b[1;33m,\u001b[0m \u001b[0mSOCK_STREAM\u001b[0m\u001b[1;33m)\u001b[0m\u001b[1;33m:\u001b[0m\u001b[1;33m\u001b[0m\u001b[1;33m\u001b[0m\u001b[0m\n\u001b[0m\u001b[0;32m    788\u001b[0m         \u001b[0maf\u001b[0m\u001b[1;33m,\u001b[0m \u001b[0msocktype\u001b[0m\u001b[1;33m,\u001b[0m \u001b[0mproto\u001b[0m\u001b[1;33m,\u001b[0m \u001b[0mcanonname\u001b[0m\u001b[1;33m,\u001b[0m \u001b[0msa\u001b[0m \u001b[1;33m=\u001b[0m \u001b[0mres\u001b[0m\u001b[1;33m\u001b[0m\u001b[1;33m\u001b[0m\u001b[0m\n",
      "\u001b[1;32m~\\anaconda3\\lib\\socket.py\u001b[0m in \u001b[0;36mgetaddrinfo\u001b[1;34m(host, port, family, type, proto, flags)\u001b[0m\n\u001b[0;32m    917\u001b[0m     \u001b[0maddrlist\u001b[0m \u001b[1;33m=\u001b[0m \u001b[1;33m[\u001b[0m\u001b[1;33m]\u001b[0m\u001b[1;33m\u001b[0m\u001b[1;33m\u001b[0m\u001b[0m\n\u001b[1;32m--> 918\u001b[1;33m     \u001b[1;32mfor\u001b[0m \u001b[0mres\u001b[0m \u001b[1;32min\u001b[0m \u001b[0m_socket\u001b[0m\u001b[1;33m.\u001b[0m\u001b[0mgetaddrinfo\u001b[0m\u001b[1;33m(\u001b[0m\u001b[0mhost\u001b[0m\u001b[1;33m,\u001b[0m \u001b[0mport\u001b[0m\u001b[1;33m,\u001b[0m \u001b[0mfamily\u001b[0m\u001b[1;33m,\u001b[0m \u001b[0mtype\u001b[0m\u001b[1;33m,\u001b[0m \u001b[0mproto\u001b[0m\u001b[1;33m,\u001b[0m \u001b[0mflags\u001b[0m\u001b[1;33m)\u001b[0m\u001b[1;33m:\u001b[0m\u001b[1;33m\u001b[0m\u001b[1;33m\u001b[0m\u001b[0m\n\u001b[0m\u001b[0;32m    919\u001b[0m         \u001b[0maf\u001b[0m\u001b[1;33m,\u001b[0m \u001b[0msocktype\u001b[0m\u001b[1;33m,\u001b[0m \u001b[0mproto\u001b[0m\u001b[1;33m,\u001b[0m \u001b[0mcanonname\u001b[0m\u001b[1;33m,\u001b[0m \u001b[0msa\u001b[0m \u001b[1;33m=\u001b[0m \u001b[0mres\u001b[0m\u001b[1;33m\u001b[0m\u001b[1;33m\u001b[0m\u001b[0m\n",
      "\u001b[1;31mgaierror\u001b[0m: [Errno 11001] getaddrinfo failed",
      "\nDuring handling of the above exception, another exception occurred:\n",
      "\u001b[1;31mURLError\u001b[0m                                  Traceback (most recent call last)",
      "\u001b[1;32m~\\AppData\\Local\\Temp/ipykernel_16516/1880562621.py\u001b[0m in \u001b[0;36m<module>\u001b[1;34m\u001b[0m\n\u001b[0;32m      5\u001b[0m \u001b[1;32mfor\u001b[0m \u001b[0mi\u001b[0m \u001b[1;32min\u001b[0m \u001b[0mrange\u001b[0m\u001b[1;33m(\u001b[0m\u001b[0mlen\u001b[0m\u001b[1;33m(\u001b[0m\u001b[0mseq\u001b[0m\u001b[1;33m)\u001b[0m\u001b[1;33m)\u001b[0m\u001b[1;33m:\u001b[0m\u001b[1;33m\u001b[0m\u001b[1;33m\u001b[0m\u001b[0m\n\u001b[0;32m      6\u001b[0m     \u001b[0mprint\u001b[0m\u001b[1;33m(\u001b[0m\u001b[1;34m'Trying sequence number '\u001b[0m \u001b[1;33m+\u001b[0m \u001b[0mstr\u001b[0m\u001b[1;33m(\u001b[0m\u001b[0mi\u001b[0m\u001b[1;33m)\u001b[0m\u001b[1;33m+\u001b[0m\u001b[1;34m'...'\u001b[0m\u001b[1;33m)\u001b[0m\u001b[1;33m\u001b[0m\u001b[1;33m\u001b[0m\u001b[0m\n\u001b[1;32m----> 7\u001b[1;33m     \u001b[0mresult_handle\u001b[0m\u001b[1;33m.\u001b[0m\u001b[0mappend\u001b[0m\u001b[1;33m(\u001b[0m\u001b[0mNCBIWWW\u001b[0m\u001b[1;33m.\u001b[0m\u001b[0mqblast\u001b[0m\u001b[1;33m(\u001b[0m\u001b[1;34m\"blastn\"\u001b[0m\u001b[1;33m,\u001b[0m \u001b[1;34m\"nt\"\u001b[0m\u001b[1;33m,\u001b[0m \u001b[0mseq\u001b[0m\u001b[1;33m[\u001b[0m\u001b[0mi\u001b[0m\u001b[1;33m]\u001b[0m\u001b[1;33m,\u001b[0m \u001b[0mhitlist_size\u001b[0m \u001b[1;33m=\u001b[0m \u001b[1;36m20\u001b[0m\u001b[1;33m,\u001b[0m\u001b[0mexpect\u001b[0m\u001b[1;33m=\u001b[0m\u001b[1;36m0.05\u001b[0m\u001b[1;33m)\u001b[0m\u001b[1;33m)\u001b[0m\u001b[1;33m\u001b[0m\u001b[1;33m\u001b[0m\u001b[0m\n\u001b[0m\u001b[0;32m      8\u001b[0m     \u001b[0mprint\u001b[0m\u001b[1;33m(\u001b[0m\u001b[1;34m'Done with sequence '\u001b[0m \u001b[1;33m+\u001b[0m \u001b[0mstr\u001b[0m\u001b[1;33m(\u001b[0m\u001b[0mi\u001b[0m\u001b[1;33m)\u001b[0m \u001b[1;33m+\u001b[0m \u001b[1;34m' !'\u001b[0m\u001b[1;33m)\u001b[0m\u001b[1;33m\u001b[0m\u001b[1;33m\u001b[0m\u001b[0m\n\u001b[0;32m      9\u001b[0m \u001b[1;33m\u001b[0m\u001b[0m\n",
      "\u001b[1;32m~\\anaconda3\\lib\\site-packages\\Bio\\Blast\\NCBIWWW.py\u001b[0m in \u001b[0;36mqblast\u001b[1;34m(program, database, sequence, url_base, auto_format, composition_based_statistics, db_genetic_code, endpoints, entrez_query, expect, filter, gapcosts, genetic_code, hitlist_size, i_thresh, layout, lcase_mask, matrix_name, nucl_penalty, nucl_reward, other_advanced, perc_ident, phi_pattern, query_file, query_believe_defline, query_from, query_to, searchsp_eff, service, threshold, ungapped_alignment, word_size, short_query, alignments, alignment_view, descriptions, entrez_links_new_window, expect_low, expect_high, format_entrez_query, format_object, format_type, ncbi_gi, results_file, show_overview, megablast, template_type, template_length)\u001b[0m\n\u001b[0;32m    254\u001b[0m \u001b[1;33m\u001b[0m\u001b[0m\n\u001b[0;32m    255\u001b[0m         \u001b[0mrequest\u001b[0m \u001b[1;33m=\u001b[0m \u001b[0mRequest\u001b[0m\u001b[1;33m(\u001b[0m\u001b[0murl_base\u001b[0m\u001b[1;33m,\u001b[0m \u001b[0mmessage\u001b[0m\u001b[1;33m,\u001b[0m \u001b[1;33m{\u001b[0m\u001b[1;34m\"User-Agent\"\u001b[0m\u001b[1;33m:\u001b[0m \u001b[1;34m\"BiopythonClient\"\u001b[0m\u001b[1;33m}\u001b[0m\u001b[1;33m)\u001b[0m\u001b[1;33m\u001b[0m\u001b[1;33m\u001b[0m\u001b[0m\n\u001b[1;32m--> 256\u001b[1;33m         \u001b[0mhandle\u001b[0m \u001b[1;33m=\u001b[0m \u001b[0murlopen\u001b[0m\u001b[1;33m(\u001b[0m\u001b[0mrequest\u001b[0m\u001b[1;33m)\u001b[0m\u001b[1;33m\u001b[0m\u001b[1;33m\u001b[0m\u001b[0m\n\u001b[0m\u001b[0;32m    257\u001b[0m         \u001b[0mresults\u001b[0m \u001b[1;33m=\u001b[0m \u001b[0mhandle\u001b[0m\u001b[1;33m.\u001b[0m\u001b[0mread\u001b[0m\u001b[1;33m(\u001b[0m\u001b[1;33m)\u001b[0m\u001b[1;33m.\u001b[0m\u001b[0mdecode\u001b[0m\u001b[1;33m(\u001b[0m\u001b[1;33m)\u001b[0m\u001b[1;33m\u001b[0m\u001b[1;33m\u001b[0m\u001b[0m\n\u001b[0;32m    258\u001b[0m \u001b[1;33m\u001b[0m\u001b[0m\n",
      "\u001b[1;32m~\\anaconda3\\lib\\urllib\\request.py\u001b[0m in \u001b[0;36murlopen\u001b[1;34m(url, data, timeout, cafile, capath, cadefault, context)\u001b[0m\n\u001b[0;32m    220\u001b[0m     \u001b[1;32melse\u001b[0m\u001b[1;33m:\u001b[0m\u001b[1;33m\u001b[0m\u001b[1;33m\u001b[0m\u001b[0m\n\u001b[0;32m    221\u001b[0m         \u001b[0mopener\u001b[0m \u001b[1;33m=\u001b[0m \u001b[0m_opener\u001b[0m\u001b[1;33m\u001b[0m\u001b[1;33m\u001b[0m\u001b[0m\n\u001b[1;32m--> 222\u001b[1;33m     \u001b[1;32mreturn\u001b[0m \u001b[0mopener\u001b[0m\u001b[1;33m.\u001b[0m\u001b[0mopen\u001b[0m\u001b[1;33m(\u001b[0m\u001b[0murl\u001b[0m\u001b[1;33m,\u001b[0m \u001b[0mdata\u001b[0m\u001b[1;33m,\u001b[0m \u001b[0mtimeout\u001b[0m\u001b[1;33m)\u001b[0m\u001b[1;33m\u001b[0m\u001b[1;33m\u001b[0m\u001b[0m\n\u001b[0m\u001b[0;32m    223\u001b[0m \u001b[1;33m\u001b[0m\u001b[0m\n\u001b[0;32m    224\u001b[0m \u001b[1;32mdef\u001b[0m \u001b[0minstall_opener\u001b[0m\u001b[1;33m(\u001b[0m\u001b[0mopener\u001b[0m\u001b[1;33m)\u001b[0m\u001b[1;33m:\u001b[0m\u001b[1;33m\u001b[0m\u001b[1;33m\u001b[0m\u001b[0m\n",
      "\u001b[1;32m~\\anaconda3\\lib\\urllib\\request.py\u001b[0m in \u001b[0;36mopen\u001b[1;34m(self, fullurl, data, timeout)\u001b[0m\n\u001b[0;32m    523\u001b[0m \u001b[1;33m\u001b[0m\u001b[0m\n\u001b[0;32m    524\u001b[0m         \u001b[0msys\u001b[0m\u001b[1;33m.\u001b[0m\u001b[0maudit\u001b[0m\u001b[1;33m(\u001b[0m\u001b[1;34m'urllib.Request'\u001b[0m\u001b[1;33m,\u001b[0m \u001b[0mreq\u001b[0m\u001b[1;33m.\u001b[0m\u001b[0mfull_url\u001b[0m\u001b[1;33m,\u001b[0m \u001b[0mreq\u001b[0m\u001b[1;33m.\u001b[0m\u001b[0mdata\u001b[0m\u001b[1;33m,\u001b[0m \u001b[0mreq\u001b[0m\u001b[1;33m.\u001b[0m\u001b[0mheaders\u001b[0m\u001b[1;33m,\u001b[0m \u001b[0mreq\u001b[0m\u001b[1;33m.\u001b[0m\u001b[0mget_method\u001b[0m\u001b[1;33m(\u001b[0m\u001b[1;33m)\u001b[0m\u001b[1;33m)\u001b[0m\u001b[1;33m\u001b[0m\u001b[1;33m\u001b[0m\u001b[0m\n\u001b[1;32m--> 525\u001b[1;33m         \u001b[0mresponse\u001b[0m \u001b[1;33m=\u001b[0m \u001b[0mself\u001b[0m\u001b[1;33m.\u001b[0m\u001b[0m_open\u001b[0m\u001b[1;33m(\u001b[0m\u001b[0mreq\u001b[0m\u001b[1;33m,\u001b[0m \u001b[0mdata\u001b[0m\u001b[1;33m)\u001b[0m\u001b[1;33m\u001b[0m\u001b[1;33m\u001b[0m\u001b[0m\n\u001b[0m\u001b[0;32m    526\u001b[0m \u001b[1;33m\u001b[0m\u001b[0m\n\u001b[0;32m    527\u001b[0m         \u001b[1;31m# post-process response\u001b[0m\u001b[1;33m\u001b[0m\u001b[1;33m\u001b[0m\u001b[1;33m\u001b[0m\u001b[0m\n",
      "\u001b[1;32m~\\anaconda3\\lib\\urllib\\request.py\u001b[0m in \u001b[0;36m_open\u001b[1;34m(self, req, data)\u001b[0m\n\u001b[0;32m    540\u001b[0m \u001b[1;33m\u001b[0m\u001b[0m\n\u001b[0;32m    541\u001b[0m         \u001b[0mprotocol\u001b[0m \u001b[1;33m=\u001b[0m \u001b[0mreq\u001b[0m\u001b[1;33m.\u001b[0m\u001b[0mtype\u001b[0m\u001b[1;33m\u001b[0m\u001b[1;33m\u001b[0m\u001b[0m\n\u001b[1;32m--> 542\u001b[1;33m         result = self._call_chain(self.handle_open, protocol, protocol +\n\u001b[0m\u001b[0;32m    543\u001b[0m                                   '_open', req)\n\u001b[0;32m    544\u001b[0m         \u001b[1;32mif\u001b[0m \u001b[0mresult\u001b[0m\u001b[1;33m:\u001b[0m\u001b[1;33m\u001b[0m\u001b[1;33m\u001b[0m\u001b[0m\n",
      "\u001b[1;32m~\\anaconda3\\lib\\urllib\\request.py\u001b[0m in \u001b[0;36m_call_chain\u001b[1;34m(self, chain, kind, meth_name, *args)\u001b[0m\n\u001b[0;32m    500\u001b[0m         \u001b[1;32mfor\u001b[0m \u001b[0mhandler\u001b[0m \u001b[1;32min\u001b[0m \u001b[0mhandlers\u001b[0m\u001b[1;33m:\u001b[0m\u001b[1;33m\u001b[0m\u001b[1;33m\u001b[0m\u001b[0m\n\u001b[0;32m    501\u001b[0m             \u001b[0mfunc\u001b[0m \u001b[1;33m=\u001b[0m \u001b[0mgetattr\u001b[0m\u001b[1;33m(\u001b[0m\u001b[0mhandler\u001b[0m\u001b[1;33m,\u001b[0m \u001b[0mmeth_name\u001b[0m\u001b[1;33m)\u001b[0m\u001b[1;33m\u001b[0m\u001b[1;33m\u001b[0m\u001b[0m\n\u001b[1;32m--> 502\u001b[1;33m             \u001b[0mresult\u001b[0m \u001b[1;33m=\u001b[0m \u001b[0mfunc\u001b[0m\u001b[1;33m(\u001b[0m\u001b[1;33m*\u001b[0m\u001b[0margs\u001b[0m\u001b[1;33m)\u001b[0m\u001b[1;33m\u001b[0m\u001b[1;33m\u001b[0m\u001b[0m\n\u001b[0m\u001b[0;32m    503\u001b[0m             \u001b[1;32mif\u001b[0m \u001b[0mresult\u001b[0m \u001b[1;32mis\u001b[0m \u001b[1;32mnot\u001b[0m \u001b[1;32mNone\u001b[0m\u001b[1;33m:\u001b[0m\u001b[1;33m\u001b[0m\u001b[1;33m\u001b[0m\u001b[0m\n\u001b[0;32m    504\u001b[0m                 \u001b[1;32mreturn\u001b[0m \u001b[0mresult\u001b[0m\u001b[1;33m\u001b[0m\u001b[1;33m\u001b[0m\u001b[0m\n",
      "\u001b[1;32m~\\anaconda3\\lib\\urllib\\request.py\u001b[0m in \u001b[0;36mhttps_open\u001b[1;34m(self, req)\u001b[0m\n\u001b[0;32m   1395\u001b[0m \u001b[1;33m\u001b[0m\u001b[0m\n\u001b[0;32m   1396\u001b[0m         \u001b[1;32mdef\u001b[0m \u001b[0mhttps_open\u001b[0m\u001b[1;33m(\u001b[0m\u001b[0mself\u001b[0m\u001b[1;33m,\u001b[0m \u001b[0mreq\u001b[0m\u001b[1;33m)\u001b[0m\u001b[1;33m:\u001b[0m\u001b[1;33m\u001b[0m\u001b[1;33m\u001b[0m\u001b[0m\n\u001b[1;32m-> 1397\u001b[1;33m             return self.do_open(http.client.HTTPSConnection, req,\n\u001b[0m\u001b[0;32m   1398\u001b[0m                 context=self._context, check_hostname=self._check_hostname)\n\u001b[0;32m   1399\u001b[0m \u001b[1;33m\u001b[0m\u001b[0m\n",
      "\u001b[1;32m~\\anaconda3\\lib\\urllib\\request.py\u001b[0m in \u001b[0;36mdo_open\u001b[1;34m(self, http_class, req, **http_conn_args)\u001b[0m\n\u001b[0;32m   1355\u001b[0m                           encode_chunked=req.has_header('Transfer-encoding'))\n\u001b[0;32m   1356\u001b[0m             \u001b[1;32mexcept\u001b[0m \u001b[0mOSError\u001b[0m \u001b[1;32mas\u001b[0m \u001b[0merr\u001b[0m\u001b[1;33m:\u001b[0m \u001b[1;31m# timeout error\u001b[0m\u001b[1;33m\u001b[0m\u001b[1;33m\u001b[0m\u001b[0m\n\u001b[1;32m-> 1357\u001b[1;33m                 \u001b[1;32mraise\u001b[0m \u001b[0mURLError\u001b[0m\u001b[1;33m(\u001b[0m\u001b[0merr\u001b[0m\u001b[1;33m)\u001b[0m\u001b[1;33m\u001b[0m\u001b[1;33m\u001b[0m\u001b[0m\n\u001b[0m\u001b[0;32m   1358\u001b[0m             \u001b[0mr\u001b[0m \u001b[1;33m=\u001b[0m \u001b[0mh\u001b[0m\u001b[1;33m.\u001b[0m\u001b[0mgetresponse\u001b[0m\u001b[1;33m(\u001b[0m\u001b[1;33m)\u001b[0m\u001b[1;33m\u001b[0m\u001b[1;33m\u001b[0m\u001b[0m\n\u001b[0;32m   1359\u001b[0m         \u001b[1;32mexcept\u001b[0m\u001b[1;33m:\u001b[0m\u001b[1;33m\u001b[0m\u001b[1;33m\u001b[0m\u001b[0m\n",
      "\u001b[1;31mURLError\u001b[0m: <urlopen error [Errno 11001] getaddrinfo failed>"
     ]
    }
   ],
   "source": [
    "result_handle = []\n",
    "\n",
    "Entrez.email = 'ness.louafi@gmail.com'\n",
    "\n",
    "for i in range(len(seq)):\n",
    "    print('Trying sequence number ' + str(i)+'...')\n",
    "    result_handle.append(NCBIWWW.qblast(\"blastn\", \"nt\", seq[i], hitlist_size = 20,expect=0.05))\n",
    "    print('Done with sequence ' + str(i) + ' !')\n",
    "    "
   ]
  },
  {
   "cell_type": "markdown",
   "id": "2726372a",
   "metadata": {},
   "source": [
    "NCBIWWW.qblast?\n",
    "\n"
   ]
  },
  {
   "cell_type": "markdown",
   "id": "0caf528d",
   "metadata": {},
   "source": [
    "# Display the results"
   ]
  },
  {
   "cell_type": "code",
   "execution_count": 9,
   "id": "0fdf2faf",
   "metadata": {
    "scrolled": true
   },
   "outputs": [
    {
     "name": "stdout",
     "output_type": "stream",
     "text": [
      "\n",
      "\n",
      "results0\n",
      "match:  Photobacterium sp. strain NIORKP11 16S ribosomal RNA gene, partial sequence \n",
      "e value: 0.0114809\n",
      "match: | Pseudomonas aeruginosa gene for 16S ribosomal RNA, partial sequence, strain: HJ5 \n",
      "e value: 0.0114809\n",
      "match: | Enterobacter xiangfangensis gene for 16S ribosomal RNA, partial sequence, strain: D29 \n",
      "e value: 0.0114809\n",
      "match:  Klebsiella pneumoniae strain CP_B20 16S ribosomal RNA gene, partial sequence \n",
      "e value: 0.0114809\n",
      "match:  Klebsiella pneumoniae strain CP_B28 16S ribosomal RNA gene, partial sequence \n",
      "e value: 0.0114809\n",
      "match:  Pseudomonas sp. strain BacI7 16S ribosomal RNA gene, partial sequence \n",
      "e value: 0.0114809\n",
      "match:  Pantoea agglomerans strain EPS 13 16S ribosomal RNA gene, partial sequence \n",
      "e value: 0.0114809\n",
      "match: Klebsiella pneumoniae 16S ribosomal RNA gene, partial sequence \n",
      "e value: 0.0114809\n",
      "match: Enterobacter hormaechei strain NS-1 16S ribosomal RNA gene, partial sequence \n",
      "e value: 0.0114809\n",
      "match: Klebsiella pneumoniae strain 285 16S ribosomal RNA gene, partial sequence \n",
      "e value: 0.0114809\n",
      "match: Pseudomonas sp. M_36 16S ribosomal RNA gene, partial sequence \n",
      "e value: 0.0114809\n",
      "match: Aeromonas sp. F1 16S ribosomal RNA gene, partial sequence \n",
      "e value: 0.0114809\n",
      "match: Aeromonas sp. F6 16S ribosomal RNA gene, partial sequence \n",
      "e value: 0.0114809\n",
      "match: Providencia rettgeri strain CVCC3379 16S ribosomal RNA gene, partial sequence \n",
      "e value: 0.0114809\n",
      "match: Pseudomonas stutzeri isolate 2 16S ribosomal RNA gene, partial sequence \n",
      "e value: 0.0114809\n",
      "match: Klebsiella pneumoniae strain Y-A47 16S ribosomal RNA gene, partial sequence \n",
      "e value: 0.0114809\n",
      "match: Pantoea agglomerans strain JKJ-11 16S ribosomal RNA gene, partial sequence \n",
      "e value: 0.0114809\n",
      "match: Escherichia hermannii strain YO-2 16S ribosomal RNA gene, partial sequence \n",
      "e value: 0.0114809\n",
      "match: Escherichia hermannii strain YO-1 16S ribosomal RNA gene, partial sequence \n",
      "e value: 0.0114809\n",
      "match: Pseudomonas sp. N9-4 16S ribosomal RNA gene, partial sequence \n",
      "e value: 0.0114809\n",
      "\n",
      "\n",
      "results6\n",
      "match: hotobacterium sp. UCR13 16S ribosomal RNA gene, complete sequence \n",
      "e value: 0.0115616\n",
      "match: | Enterobacter xiangfangensis gene for 16S ribosomal RNA, partial sequence, strain: D29 \n",
      "e value: 0.040354\n",
      "match: Escherichia hermannii strain YO-2 16S ribosomal RNA gene, partial sequence \n",
      "e value: 0.040354\n",
      "match: Escherichia hermannii strain YO-1 16S ribosomal RNA gene, partial sequence \n",
      "e value: 0.040354\n",
      "\n",
      "\n",
      "results11\n",
      "match: | Agonopterix subpropinquella genome assembly, chromosome: 4 \n",
      "e value: 0.040354\n",
      "\n",
      "\n",
      "results13\n",
      "match: 86.1| PREDICTED: Trichogramma pretiosum sterile alpha and TIR motif-containing protein 1 (LO \n",
      "e value: 0.0400051\n",
      "match: 85.1| PREDICTED: Trichogramma pretiosum sterile alpha and TIR motif-containing protein 1 (LO \n",
      "e value: 0.0400051\n",
      "match: 43.2| PREDICTED: Trichogramma pretiosum sterile alpha and TIR motif-containing protein 1 (LO \n",
      "e value: 0.0400051\n",
      "match: 40.2| PREDICTED: Trichogramma pretiosum sterile alpha and TIR motif-containing protein 1 (LO \n",
      "e value: 0.0400051\n",
      "match: 39.2| PREDICTED: Trichogramma pretiosum sterile alpha and TIR motif-containing protein 1 (LO \n",
      "e value: 0.0400051\n",
      "match: | Arabis alpina genome assembly, chromosome: 3 \n",
      "e value: 0.0400051\n"
     ]
    },
    {
     "data": {
      "text/plain": [
       "\"          \\n    for alignment in record.alignments:\\n        for hsp in alignment.hsps:\\n            if hsp.expect < 0.05:\\n                print('****Alignment****')\\n                #print('length:', alignment.length)\\n                print('e value:', hsp.expect)\\n                #print(hsp.query[0:75] + '   ')\\n                #print(hsp.match[0:75] + '   ')\\n                #print(hsp.sbjct[0:75] + '   ')\\n\""
      ]
     },
     "execution_count": 9,
     "metadata": {},
     "output_type": "execute_result"
    }
   ],
   "source": [
    "'''\n",
    "for i in range(len(result_handle)):\n",
    "    with open('../results/new_sequences/'+str(df.ID[i])+'.xml', 'w') as save_file: \n",
    "        blast_results = result_handle[i].read() \n",
    "        save_file.write(blast_results)\n",
    "'''     \n",
    "\n",
    "for i in range(len(result_handle)):\n",
    "    for record in NCBIXML.parse(open('../results/new_sequences/'+str(df.ID[i])+\".xml\")): \n",
    "         if record.alignments: \n",
    "            print(\"\\n\") \n",
    "            #print(df['ID'][i])\n",
    "            print(\"results\"+str(i))\n",
    "            for align in record.alignments: \n",
    "                for hsp in align.hsps: \n",
    "                    if hsp.expect < 100:\n",
    "\n",
    "                        print(\"match: %s \" % align.title[28:120])\n",
    "                        print('e value:', hsp.expect)\n",
    "                        \n",
    "                    #print('e value:', hsp.expect)\n",
    "'''          \n",
    "    for alignment in record.alignments:\n",
    "        for hsp in alignment.hsps:\n",
    "            if hsp.expect < 0.05:\n",
    "                print('****Alignment****')\n",
    "                #print('length:', alignment.length)\n",
    "                print('e value:', hsp.expect)\n",
    "                #print(hsp.query[0:75] + '   ')\n",
    "                #print(hsp.match[0:75] + '   ')\n",
    "                #print(hsp.sbjct[0:75] + '   ')\n",
    "'''           "
   ]
  },
  {
   "cell_type": "markdown",
   "id": "227ee7f9",
   "metadata": {},
   "source": [
    "Put all the rsult per query in a dataframe (use the one defined above) and then find a way to characterize the species of each hit to try and filter the results.\n",
    "\n",
    "The impression is that many sequences have 16s hits.... "
   ]
  },
  {
   "cell_type": "code",
   "execution_count": 14,
   "id": "e0602c96",
   "metadata": {
    "scrolled": false
   },
   "outputs": [
    {
     "ename": "AttributeError",
     "evalue": "'list' object has no attribute 'expect'",
     "output_type": "error",
     "traceback": [
      "\u001b[1;31m---------------------------------------------------------------------------\u001b[0m",
      "\u001b[1;31mAttributeError\u001b[0m                            Traceback (most recent call last)",
      "\u001b[1;32m~\\AppData\\Local\\Temp/ipykernel_17744/760922613.py\u001b[0m in \u001b[0;36m<module>\u001b[1;34m\u001b[0m\n\u001b[0;32m      8\u001b[0m             \u001b[1;31m#print(e_val)\u001b[0m\u001b[1;33m\u001b[0m\u001b[1;33m\u001b[0m\u001b[1;33m\u001b[0m\u001b[0m\n\u001b[0;32m      9\u001b[0m             \u001b[0malign_organism\u001b[0m\u001b[1;33m.\u001b[0m\u001b[0mappend\u001b[0m\u001b[1;33m(\u001b[0m\u001b[0malign\u001b[0m\u001b[1;33m.\u001b[0m\u001b[0mhit_def\u001b[0m\u001b[1;33m)\u001b[0m\u001b[1;33m\u001b[0m\u001b[1;33m\u001b[0m\u001b[0m\n\u001b[1;32m---> 10\u001b[1;33m             \u001b[0me_val\u001b[0m\u001b[1;33m.\u001b[0m\u001b[0mappend\u001b[0m\u001b[1;33m(\u001b[0m\u001b[0malign\u001b[0m\u001b[1;33m.\u001b[0m\u001b[0mhsps\u001b[0m\u001b[1;33m.\u001b[0m\u001b[0mexpect\u001b[0m\u001b[1;33m)\u001b[0m\u001b[1;33m\u001b[0m\u001b[1;33m\u001b[0m\u001b[0m\n\u001b[0m\u001b[0;32m     11\u001b[0m         \u001b[0mprint\u001b[0m\u001b[1;33m(\u001b[0m\u001b[0me_val\u001b[0m\u001b[1;33m)\u001b[0m\u001b[1;33m\u001b[0m\u001b[1;33m\u001b[0m\u001b[0m\n\u001b[0;32m     12\u001b[0m         \u001b[1;31m#df.at[i,\"Matches\"] = align_organism\u001b[0m\u001b[1;33m\u001b[0m\u001b[1;33m\u001b[0m\u001b[1;33m\u001b[0m\u001b[0m\n",
      "\u001b[1;31mAttributeError\u001b[0m: 'list' object has no attribute 'expect'"
     ]
    }
   ],
   "source": [
    "df[\"Matches\"] = \"\"\n",
    "\n",
    "for i in range(15):\n",
    "    for record in NCBIXML.parse(open(\"results/vibrio_16s/corrected_analysis/corrected_\"+str(i)+\".xml\")): \n",
    "        align_organism = []\n",
    "        e_val = []\n",
    "        for align in record.alignments: \n",
    "            #print(e_val)\n",
    "            align_organism.append(align.hit_def)\n",
    "            e_val.append(align.hsps.expect)\n",
    "        print(e_val)\n",
    "        #df.at[i,\"Matches\"] = align_organism\n",
    "        #df.at[i,\"e_Value\"] = e_val\n",
    "df"
   ]
  },
  {
   "cell_type": "code",
   "execution_count": 9,
   "id": "a42a0056",
   "metadata": {},
   "outputs": [
    {
     "data": {
      "text/html": [
       "<div>\n",
       "<style scoped>\n",
       "    .dataframe tbody tr th:only-of-type {\n",
       "        vertical-align: middle;\n",
       "    }\n",
       "\n",
       "    .dataframe tbody tr th {\n",
       "        vertical-align: top;\n",
       "    }\n",
       "\n",
       "    .dataframe thead th {\n",
       "        text-align: right;\n",
       "    }\n",
       "</style>\n",
       "<table border=\"1\" class=\"dataframe\">\n",
       "  <thead>\n",
       "    <tr style=\"text-align: right;\">\n",
       "      <th></th>\n",
       "      <th>ID</th>\n",
       "      <th>Seq</th>\n",
       "      <th>Matches</th>\n",
       "      <th>e_Value</th>\n",
       "    </tr>\n",
       "  </thead>\n",
       "  <tbody>\n",
       "    <tr>\n",
       "      <th>0</th>\n",
       "      <td>G_01</td>\n",
       "      <td>ggtaacatttcaaaagcttgcttttgaa</td>\n",
       "      <td>[Shewanella algae strain ROD067 16S ribosomal ...</td>\n",
       "      <td>NaN</td>\n",
       "    </tr>\n",
       "    <tr>\n",
       "      <th>1</th>\n",
       "      <td>G_02</td>\n",
       "      <td>gttgtaaagtactttcagtcgtgaggaa</td>\n",
       "      <td></td>\n",
       "      <td>NaN</td>\n",
       "    </tr>\n",
       "    <tr>\n",
       "      <th>2</th>\n",
       "      <td>G_03</td>\n",
       "      <td>gggtagaatttcaggtgtagcggtgaaa</td>\n",
       "      <td></td>\n",
       "      <td>NaN</td>\n",
       "    </tr>\n",
       "    <tr>\n",
       "      <th>3</th>\n",
       "      <td>G_04</td>\n",
       "      <td>ggggataaccattggaaacgatggctaa</td>\n",
       "      <td></td>\n",
       "      <td>NaN</td>\n",
       "    </tr>\n",
       "    <tr>\n",
       "      <th>4</th>\n",
       "      <td>G_05</td>\n",
       "      <td>tattgcacaatgggcgcaagcctgatgc</td>\n",
       "      <td></td>\n",
       "      <td>NaN</td>\n",
       "    </tr>\n",
       "    <tr>\n",
       "      <th>5</th>\n",
       "      <td>G_06</td>\n",
       "      <td>gtattctttgacgttagcgacagaagaa</td>\n",
       "      <td></td>\n",
       "      <td>NaN</td>\n",
       "    </tr>\n",
       "    <tr>\n",
       "      <th>6</th>\n",
       "      <td>G_07</td>\n",
       "      <td>tgatagaaatcaaggggatgcaagcgct</td>\n",
       "      <td></td>\n",
       "      <td>NaN</td>\n",
       "    </tr>\n",
       "    <tr>\n",
       "      <th>7</th>\n",
       "      <td>G_08</td>\n",
       "      <td>cttatgatcaatatggtcatgcagcctt</td>\n",
       "      <td></td>\n",
       "      <td>NaN</td>\n",
       "    </tr>\n",
       "    <tr>\n",
       "      <th>8</th>\n",
       "      <td>G_09</td>\n",
       "      <td>acattttcggtgatgtctttggtgatat</td>\n",
       "      <td></td>\n",
       "      <td>NaN</td>\n",
       "    </tr>\n",
       "    <tr>\n",
       "      <th>9</th>\n",
       "      <td>G_10</td>\n",
       "      <td>acgctacaacatggaattatcgctagaa</td>\n",
       "      <td></td>\n",
       "      <td>NaN</td>\n",
       "    </tr>\n",
       "    <tr>\n",
       "      <th>10</th>\n",
       "      <td>G_11</td>\n",
       "      <td>gattagataccctggtagtccacgccgt</td>\n",
       "      <td></td>\n",
       "      <td>NaN</td>\n",
       "    </tr>\n",
       "    <tr>\n",
       "      <th>11</th>\n",
       "      <td>G_12</td>\n",
       "      <td>gagcatgtggtttaattcgatgcaacgc</td>\n",
       "      <td></td>\n",
       "      <td>NaN</td>\n",
       "    </tr>\n",
       "    <tr>\n",
       "      <th>12</th>\n",
       "      <td>G_13</td>\n",
       "      <td>gatatccttgtttgccagcgagtaatgt</td>\n",
       "      <td></td>\n",
       "      <td>NaN</td>\n",
       "    </tr>\n",
       "    <tr>\n",
       "      <th>13</th>\n",
       "      <td>G_14</td>\n",
       "      <td>aatcgtggatcagaatgccacggtgaat</td>\n",
       "      <td></td>\n",
       "      <td>NaN</td>\n",
       "    </tr>\n",
       "    <tr>\n",
       "      <th>14</th>\n",
       "      <td>G_15</td>\n",
       "      <td>gtgggtagtttaacctttcggggaggac</td>\n",
       "      <td></td>\n",
       "      <td>NaN</td>\n",
       "    </tr>\n",
       "  </tbody>\n",
       "</table>\n",
       "</div>"
      ],
      "text/plain": [
       "      ID                           Seq  \\\n",
       "0   G_01  ggtaacatttcaaaagcttgcttttgaa   \n",
       "1   G_02  gttgtaaagtactttcagtcgtgaggaa   \n",
       "2   G_03  gggtagaatttcaggtgtagcggtgaaa   \n",
       "3   G_04  ggggataaccattggaaacgatggctaa   \n",
       "4   G_05  tattgcacaatgggcgcaagcctgatgc   \n",
       "5   G_06  gtattctttgacgttagcgacagaagaa   \n",
       "6   G_07  tgatagaaatcaaggggatgcaagcgct   \n",
       "7   G_08  cttatgatcaatatggtcatgcagcctt   \n",
       "8   G_09  acattttcggtgatgtctttggtgatat   \n",
       "9   G_10  acgctacaacatggaattatcgctagaa   \n",
       "10  G_11  gattagataccctggtagtccacgccgt   \n",
       "11  G_12  gagcatgtggtttaattcgatgcaacgc   \n",
       "12  G_13  gatatccttgtttgccagcgagtaatgt   \n",
       "13  G_14  aatcgtggatcagaatgccacggtgaat   \n",
       "14  G_15  gtgggtagtttaacctttcggggaggac   \n",
       "\n",
       "                                              Matches  e_Value  \n",
       "0   [Shewanella algae strain ROD067 16S ribosomal ...      NaN  \n",
       "1                                                          NaN  \n",
       "2                                                          NaN  \n",
       "3                                                          NaN  \n",
       "4                                                          NaN  \n",
       "5                                                          NaN  \n",
       "6                                                          NaN  \n",
       "7                                                          NaN  \n",
       "8                                                          NaN  \n",
       "9                                                          NaN  \n",
       "10                                                         NaN  \n",
       "11                                                         NaN  \n",
       "12                                                         NaN  \n",
       "13                                                         NaN  \n",
       "14                                                         NaN  "
      ]
     },
     "execution_count": 9,
     "metadata": {},
     "output_type": "execute_result"
    }
   ],
   "source": [
    "df"
   ]
  },
  {
   "cell_type": "markdown",
   "id": "0895eb1b",
   "metadata": {},
   "source": [
    "Now the idea is for each match, take the organism (class) from the NCBI accession and then be able to plot the kind of output we got per sequence "
   ]
  },
  {
   "cell_type": "code",
   "execution_count": 55,
   "id": "79e6c09c",
   "metadata": {},
   "outputs": [
    {
     "ename": "TypeError",
     "evalue": "esearch() missing 1 required positional argument: 'term'",
     "output_type": "error",
     "traceback": [
      "\u001b[1;31m---------------------------------------------------------------------------\u001b[0m",
      "\u001b[1;31mTypeError\u001b[0m                                 Traceback (most recent call last)",
      "\u001b[1;32m~\\AppData\\Local\\Temp/ipykernel_19792/2093870407.py\u001b[0m in \u001b[0;36m<module>\u001b[1;34m\u001b[0m\n\u001b[0;32m      3\u001b[0m \u001b[0mEntrez\u001b[0m\u001b[1;33m.\u001b[0m\u001b[0memail\u001b[0m \u001b[1;33m=\u001b[0m \u001b[1;34m'ness.louafi@gmail.com'\u001b[0m\u001b[1;33m\u001b[0m\u001b[1;33m\u001b[0m\u001b[0m\n\u001b[0;32m      4\u001b[0m \u001b[1;33m\u001b[0m\u001b[0m\n\u001b[1;32m----> 5\u001b[1;33m \u001b[0mhandle\u001b[0m \u001b[1;33m=\u001b[0m \u001b[0mEntrez\u001b[0m\u001b[1;33m.\u001b[0m\u001b[0mesearch\u001b[0m\u001b[1;33m(\u001b[0m\u001b[0mdb\u001b[0m\u001b[1;33m=\u001b[0m\u001b[1;34m\"nt\"\u001b[0m\u001b[1;33m,\u001b[0m\u001b[0maccession\u001b[0m\u001b[1;33m=\u001b[0m\u001b[0malign_organism\u001b[0m\u001b[1;33m[\u001b[0m\u001b[1;36m0\u001b[0m\u001b[1;33m]\u001b[0m\u001b[1;33m)\u001b[0m\u001b[1;33m\u001b[0m\u001b[1;33m\u001b[0m\u001b[0m\n\u001b[0m\u001b[0;32m      6\u001b[0m \u001b[0mprint\u001b[0m\u001b[1;33m(\u001b[0m\u001b[0mhandle\u001b[0m\u001b[1;33m)\u001b[0m\u001b[1;33m\u001b[0m\u001b[1;33m\u001b[0m\u001b[0m\n",
      "\u001b[1;31mTypeError\u001b[0m: esearch() missing 1 required positional argument: 'term'"
     ]
    }
   ],
   "source": [
    "align_organism\n",
    "\n",
    "Entrez.email = 'ness.louafi@gmail.com'\n",
    "\n",
    "handle = Entrez.esearch(db=\"nt\",accession=align_organism[0])\n",
    "print(handle)"
   ]
  },
  {
   "cell_type": "code",
   "execution_count": null,
   "id": "50fe7a23",
   "metadata": {},
   "outputs": [],
   "source": [
    "help(NCBIWWW.qblast)"
   ]
  },
  {
   "cell_type": "code",
   "execution_count": 29,
   "id": "626df2ca",
   "metadata": {
    "scrolled": true
   },
   "outputs": [
    {
     "name": "stdout",
     "output_type": "stream",
     "text": [
      "0\n",
      "0\n",
      "<_io.StringIO object at 0x000002A56D3F01F0>\n",
      "1\n",
      "1\n",
      "<_io.StringIO object at 0x000002A56D4020D0>\n",
      "2\n",
      "2\n",
      "<_io.StringIO object at 0x000002A56D33F940>\n",
      "3\n",
      "3\n",
      "<_io.StringIO object at 0x000002A56A1C4D30>\n",
      "4\n",
      "4\n",
      "<_io.StringIO object at 0x000002A56A1F8670>\n",
      "5\n",
      "5\n",
      "<_io.StringIO object at 0x000002A56D4021F0>\n",
      "6\n",
      "6\n",
      "<_io.StringIO object at 0x000002A56D3BC3A0>\n",
      "7\n",
      "7\n",
      "<_io.StringIO object at 0x000002A56D3BC1F0>\n",
      "8\n",
      "8\n",
      "<_io.StringIO object at 0x000002A56D3BCCA0>\n",
      "9\n",
      "9\n",
      "<_io.StringIO object at 0x000002A56D65D0D0>\n"
     ]
    }
   ],
   "source": [
    "from Bio import Entrez\n",
    "from urllib.error import URLError\n",
    "import time\n",
    "\n",
    "Entrez.email = 'ness.louafi@gmail.com'\n",
    "counter = 0 \n",
    "list_record_host = []\n",
    "for record in SeqIO.parse(\"sequences/test/sequences_10.fa\", format=\"fasta\"):\n",
    "    print(record.id)\n",
    "    print(counter)\n",
    "    counter+=1\n",
    "#         print(record.seq)\n",
    "\n",
    "    # online request\n",
    "    try:\n",
    "        result_handle = NCBIWWW.qblast(\"blastn\",\"nt\",record.seq, hitlist_size = 10)\n",
    "        print(result_handle)\n",
    "    except HTTPError:\n",
    "        time.sleep(5)\n",
    "        result_handle = NCBIWWW.qblast(\"blastn\",\"nt\",record.seq, hitlist_size = 10)\n",
    "\n",
    "    # result handle stored in a list\n",
    "    list_record_host.append(result_handle)"
   ]
  },
  {
   "cell_type": "code",
   "execution_count": 30,
   "id": "fbaec888",
   "metadata": {},
   "outputs": [],
   "source": [
    "for i in range(len(list_record_host)):\n",
    "    with open('results/results'+str(i)+'.xml', 'w') as save_file: \n",
    "        blast_results = result_handle.read() \n",
    "        save_file.write(blast_results)"
   ]
  },
  {
   "cell_type": "markdown",
   "id": "1a9399d8",
   "metadata": {},
   "source": [
    "# Save and open the results"
   ]
  },
  {
   "cell_type": "code",
   "execution_count": null,
   "id": "f75b2a3b",
   "metadata": {
    "scrolled": true
   },
   "outputs": [],
   "source": [
    "for i in range(50):\n",
    "    with open('results'+str(i)+'.xml', 'w') as save_file: \n",
    "        blast_results = result_handle.read() \n",
    "        save_file.write(blast_results)\n",
    "\n",
    "E_VALUE_THRESH = 1e-20 \n",
    "for record in NCBIXML.parse(open(\"results.xml\")): \n",
    "     if record.alignments: \n",
    "        print(\"\\n\") \n",
    "        print(\"query: %s\" % record.query[:100]) \n",
    "        for align in record.alignments: \n",
    "            for hsp in align.hsps: \n",
    "                if hsp.expect < E_VALUE_THRESH: \n",
    "                    print(\"match: %s \" % align.title[:100])"
   ]
  },
  {
   "cell_type": "code",
   "execution_count": null,
   "id": "a33d346f",
   "metadata": {},
   "outputs": [],
   "source": [
    "blast_params = {'program': 'blastp', 'database': 'nr', 'sequence': seq_record.seq, 'expect': 10.0}\n",
    "blast_params['database'] = ['nr']\n",
    "print_data = pd.DataFrame()\n",
    "for database in blast_params['database']:\n",
    "    db_values = {}\n",
    "    result = NCBIWWW.qblast(blast_params['program'], database, blast_params['sequence'], expect=blast_params['expect'])\n",
    "    file_name = \"blast_output_\" + database + \".xml\"\n",
    "    with open(file_name, \"w\") as output_xml:\n",
    "        output_xml.write(result.read())\n",
    "    result.close()\n",
    "    result_input = open(file_name)\n",
    "    blast_records = NCBIXML.read(result_input)\n",
    "    for description in blast_records.descriptions:\n",
    "        if 'score' in db_values:\n",
    "            db_values['score'].append(description.score)\n",
    "        else:\n",
    "            db_values['score'] = [description.score]\n",
    "        if 'e-value' in db_values:\n",
    "            db_values['e-value'].append(description.e)\n",
    "        else:\n",
    "            db_values['e-value'] = [description.e]\n",
    "    df = pd.DataFrame.from_dict(db_values)\n",
    "    df['database'] = database[0:6] # we simply limit the name to the first 6 characters for easier viewing\n",
    "    frames = [print_data, df]\n",
    "    print_data = pd.concat(frames, ignore_index=True)\n",
    "    "
   ]
  },
  {
   "cell_type": "code",
   "execution_count": null,
   "id": "c16963af",
   "metadata": {},
   "outputs": [],
   "source": [
    "E_VALUE_THRESH = 1e-20 \n",
    "for record in NCBIXML.parse(open(\"blast_output_nr.xml\")): \n",
    "     if record.alignments: \n",
    "        print(\"\\n\") \n",
    "        print(\"query: %s\" % record.query[:100]) \n",
    "        for align in record.alignments: \n",
    "            for hsp in align.hsps: \n",
    "                if hsp.expect < E_VALUE_THRESH:\n",
    "                    if \"Arabidopsis thaliana\" in align.title:\n",
    "                        print(\"match: %s \" % align.title[:100])"
   ]
  },
  {
   "cell_type": "markdown",
   "id": "49c4dd62",
   "metadata": {},
   "source": [
    "# Open when finished"
   ]
  },
  {
   "cell_type": "code",
   "execution_count": null,
   "id": "ea8a8344",
   "metadata": {},
   "outputs": [],
   "source": [
    "import webbrowser\n",
    "webbrowser.open_new('http://localhost:8888/notebooks/Documents/iGEM/iGEM/Run%20BLAST.ipynb')"
   ]
  },
  {
   "cell_type": "code",
   "execution_count": null,
   "id": "970026f1",
   "metadata": {},
   "outputs": [],
   "source": []
  }
 ],
 "metadata": {
  "kernelspec": {
   "display_name": "Python 3 (ipykernel)",
   "language": "python",
   "name": "python3"
  },
  "language_info": {
   "codemirror_mode": {
    "name": "ipython",
    "version": 3
   },
   "file_extension": ".py",
   "mimetype": "text/x-python",
   "name": "python",
   "nbconvert_exporter": "python",
   "pygments_lexer": "ipython3",
   "version": "3.8.11"
  }
 },
 "nbformat": 4,
 "nbformat_minor": 5
}
