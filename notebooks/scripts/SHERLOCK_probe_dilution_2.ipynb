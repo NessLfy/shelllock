{
 "cells": [
  {
   "cell_type": "code",
   "execution_count": 1,
   "id": "5ead4dc2",
   "metadata": {},
   "outputs": [],
   "source": [
    "import numpy as np\n",
    "import matplotlib.pyplot as plt\n",
    "import pandas as pd\n",
    "import statistics\n",
    "import re \n",
    "from operator import itemgetter\n",
    "import warnings\n",
    "from scipy.integrate import solve_ivp\n",
    "from scipy import optimize\n",
    "import seaborn as sns\n",
    "from shelllock import PyCCELL_PRFQT as px"
   ]
  },
  {
   "cell_type": "code",
   "execution_count": 113,
   "id": "90c935e7",
   "metadata": {},
   "outputs": [],
   "source": [
    "def endpoint(df):\n",
    "    end_point = pd.DataFrame(df.max(axis=0))\n",
    "    end_point = end_point.T\n",
    "    end_point= end_point.drop(columns=[i for i in end_point.columns if 'Time'in i or'NC'in i ])\n",
    "    return end_point"
   ]
  },
  {
   "cell_type": "code",
   "execution_count": 4,
   "id": "439f1c7d",
   "metadata": {
    "scrolled": true
   },
   "outputs": [
    {
     "name": "stdout",
     "output_type": "stream",
     "text": [
      "['J3', 'J4', 'J5', 'J6', 'K3', 'K4', 'K5', 'K6', 'L3', 'L4', 'L5', 'L6']\n"
     ]
    }
   ],
   "source": [
    "test = px.mainf('../results/SHERLOCK/1st_try_probe_dilution/sherlock_probe_concentr_3_v2.xlsx',\n",
    "               75,\"YES\",'col',['J6','K6','L6'])"
   ]
  },
  {
   "cell_type": "code",
   "execution_count": 5,
   "id": "16faa56d",
   "metadata": {},
   "outputs": [
    {
     "data": {
      "text/html": [
       "<div>\n",
       "<style scoped>\n",
       "    .dataframe tbody tr th:only-of-type {\n",
       "        vertical-align: middle;\n",
       "    }\n",
       "\n",
       "    .dataframe tbody tr th {\n",
       "        vertical-align: top;\n",
       "    }\n",
       "\n",
       "    .dataframe thead th {\n",
       "        text-align: right;\n",
       "    }\n",
       "</style>\n",
       "<table border=\"1\" class=\"dataframe\">\n",
       "  <thead>\n",
       "    <tr style=\"text-align: right;\">\n",
       "      <th></th>\n",
       "      <th>2µM_P</th>\n",
       "      <th>1µM_P</th>\n",
       "      <th>0.1µM_P</th>\n",
       "      <th>NC</th>\n",
       "      <th>Time</th>\n",
       "      <th>2µM_P_std</th>\n",
       "      <th>1µM_P_std</th>\n",
       "      <th>0.1µM_P_std</th>\n",
       "      <th>NC_std</th>\n",
       "    </tr>\n",
       "  </thead>\n",
       "  <tbody>\n",
       "    <tr>\n",
       "      <th>0</th>\n",
       "      <td>0.342131</td>\n",
       "      <td>0.000000</td>\n",
       "      <td>0.063930</td>\n",
       "      <td>0.0</td>\n",
       "      <td>0</td>\n",
       "      <td>0.047871</td>\n",
       "      <td>0.171114</td>\n",
       "      <td>0.078877</td>\n",
       "      <td>0.067882</td>\n",
       "    </tr>\n",
       "    <tr>\n",
       "      <th>1</th>\n",
       "      <td>0.384946</td>\n",
       "      <td>0.022776</td>\n",
       "      <td>0.096090</td>\n",
       "      <td>0.0</td>\n",
       "      <td>5</td>\n",
       "      <td>0.026317</td>\n",
       "      <td>0.211519</td>\n",
       "      <td>0.082636</td>\n",
       "      <td>0.018470</td>\n",
       "    </tr>\n",
       "    <tr>\n",
       "      <th>2</th>\n",
       "      <td>0.918768</td>\n",
       "      <td>0.263832</td>\n",
       "      <td>0.130303</td>\n",
       "      <td>0.0</td>\n",
       "      <td>10</td>\n",
       "      <td>0.204399</td>\n",
       "      <td>0.285860</td>\n",
       "      <td>0.056470</td>\n",
       "      <td>0.039108</td>\n",
       "    </tr>\n",
       "    <tr>\n",
       "      <th>3</th>\n",
       "      <td>1.792864</td>\n",
       "      <td>0.564027</td>\n",
       "      <td>0.166276</td>\n",
       "      <td>0.0</td>\n",
       "      <td>15</td>\n",
       "      <td>0.314841</td>\n",
       "      <td>0.353638</td>\n",
       "      <td>0.137054</td>\n",
       "      <td>0.023297</td>\n",
       "    </tr>\n",
       "    <tr>\n",
       "      <th>4</th>\n",
       "      <td>2.631672</td>\n",
       "      <td>0.923363</td>\n",
       "      <td>0.228152</td>\n",
       "      <td>0.0</td>\n",
       "      <td>20</td>\n",
       "      <td>0.325130</td>\n",
       "      <td>0.357989</td>\n",
       "      <td>0.025834</td>\n",
       "      <td>0.026396</td>\n",
       "    </tr>\n",
       "  </tbody>\n",
       "</table>\n",
       "</div>"
      ],
      "text/plain": [
       "      2µM_P     1µM_P   0.1µM_P   NC  Time  2µM_P_std  1µM_P_std  0.1µM_P_std  \\\n",
       "0  0.342131  0.000000  0.063930  0.0     0   0.047871   0.171114     0.078877   \n",
       "1  0.384946  0.022776  0.096090  0.0     5   0.026317   0.211519     0.082636   \n",
       "2  0.918768  0.263832  0.130303  0.0    10   0.204399   0.285860     0.056470   \n",
       "3  1.792864  0.564027  0.166276  0.0    15   0.314841   0.353638     0.137054   \n",
       "4  2.631672  0.923363  0.228152  0.0    20   0.325130   0.357989     0.025834   \n",
       "\n",
       "     NC_std  \n",
       "0  0.067882  \n",
       "1  0.018470  \n",
       "2  0.039108  \n",
       "3  0.023297  \n",
       "4  0.026396  "
      ]
     },
     "execution_count": 5,
     "metadata": {},
     "output_type": "execute_result"
    }
   ],
   "source": [
    "test.rename(columns={\"['J3', 'K3', 'L3']\": '2µM_P',\n",
    "                   \"['J4', 'K4', 'L4']\": '1µM_P',\n",
    "                     \"['J5', 'K5', 'L5']\":'0.1µM_P' ,\n",
    "                     \"['J6', 'K6', 'L6']\": 'NC',\n",
    "                     0: '2µM_P_std',\n",
    "                   1: '1µM_P_std',\n",
    "                     2:'0.1µM_P_std' ,\n",
    "                     3:'NC_std'\n",
    "                     },\n",
    "          inplace=True, errors='raise')\n",
    "\n",
    "test.head()"
   ]
  },
  {
   "cell_type": "code",
   "execution_count": 97,
   "id": "c870f159-e2af-4215-8e0b-e2591f1fb546",
   "metadata": {},
   "outputs": [
    {
     "data": {
      "text/html": [
       "<div>\n",
       "<style scoped>\n",
       "    .dataframe tbody tr th:only-of-type {\n",
       "        vertical-align: middle;\n",
       "    }\n",
       "\n",
       "    .dataframe tbody tr th {\n",
       "        vertical-align: top;\n",
       "    }\n",
       "\n",
       "    .dataframe thead th {\n",
       "        text-align: right;\n",
       "    }\n",
       "</style>\n",
       "<table border=\"1\" class=\"dataframe\">\n",
       "  <thead>\n",
       "    <tr style=\"text-align: right;\">\n",
       "      <th></th>\n",
       "      <th>J3</th>\n",
       "      <th>J4</th>\n",
       "      <th>J5</th>\n",
       "      <th>J6</th>\n",
       "      <th>K3</th>\n",
       "      <th>K4</th>\n",
       "      <th>K5</th>\n",
       "      <th>K6</th>\n",
       "      <th>L3</th>\n",
       "      <th>L4</th>\n",
       "      <th>L5</th>\n",
       "      <th>L6</th>\n",
       "      <th>average</th>\n",
       "    </tr>\n",
       "  </thead>\n",
       "  <tbody>\n",
       "    <tr>\n",
       "      <th>0</th>\n",
       "      <td>8.52434</td>\n",
       "      <td>5.09912</td>\n",
       "      <td>3.574487</td>\n",
       "      <td>3.338416</td>\n",
       "      <td>8.436364</td>\n",
       "      <td>5.162757</td>\n",
       "      <td>3.752786</td>\n",
       "      <td>3.281818</td>\n",
       "      <td>7.96393</td>\n",
       "      <td>5.621994</td>\n",
       "      <td>3.68563</td>\n",
       "      <td>3.334311</td>\n",
       "      <td>3.318182</td>\n",
       "    </tr>\n",
       "  </tbody>\n",
       "</table>\n",
       "</div>"
      ],
      "text/plain": [
       "0       J3       J4        J5        J6        K3        K4        K5  \\\n",
       "0  8.52434  5.09912  3.574487  3.338416  8.436364  5.162757  3.752786   \n",
       "\n",
       "0        K6       L3        L4       L5        L6   average  \n",
       "0  3.281818  7.96393  5.621994  3.68563  3.334311  3.318182  "
      ]
     },
     "execution_count": 97,
     "metadata": {},
     "output_type": "execute_result"
    }
   ],
   "source": [
    "t = px.excelreader('../results/SHERLOCK/1st_try_probe_dilution/sherlock_probe_concentr_3_v2.xlsx',\n",
    "               75,\"YES\")\n",
    "\n",
    "t.drop(columns = 'Time')\n",
    "\n",
    "n = endpoint(t)\n",
    "\n",
    "n['average'] = np.mean([n['J6'],n['K6'],n['L6']])\n",
    "n"
   ]
  },
  {
   "cell_type": "code",
   "execution_count": 98,
   "id": "a099bdea-15fc-4727-b2b4-2c390729d960",
   "metadata": {},
   "outputs": [
    {
     "data": {
      "text/html": [
       "<div>\n",
       "<style scoped>\n",
       "    .dataframe tbody tr th:only-of-type {\n",
       "        vertical-align: middle;\n",
       "    }\n",
       "\n",
       "    .dataframe tbody tr th {\n",
       "        vertical-align: top;\n",
       "    }\n",
       "\n",
       "    .dataframe thead th {\n",
       "        text-align: right;\n",
       "    }\n",
       "</style>\n",
       "<table border=\"1\" class=\"dataframe\">\n",
       "  <thead>\n",
       "    <tr style=\"text-align: right;\">\n",
       "      <th></th>\n",
       "      <th>J3</th>\n",
       "      <th>J4</th>\n",
       "      <th>J5</th>\n",
       "      <th>K3</th>\n",
       "      <th>K4</th>\n",
       "      <th>K5</th>\n",
       "      <th>L3</th>\n",
       "      <th>L4</th>\n",
       "      <th>L5</th>\n",
       "    </tr>\n",
       "  </thead>\n",
       "  <tbody>\n",
       "    <tr>\n",
       "      <th>0</th>\n",
       "      <td>5.206158</td>\n",
       "      <td>1.780938</td>\n",
       "      <td>0.256305</td>\n",
       "      <td>5.118182</td>\n",
       "      <td>1.844575</td>\n",
       "      <td>0.434604</td>\n",
       "      <td>4.645748</td>\n",
       "      <td>2.303812</td>\n",
       "      <td>0.367449</td>\n",
       "    </tr>\n",
       "  </tbody>\n",
       "</table>\n",
       "</div>"
      ],
      "text/plain": [
       "0        J3        J4        J5        K3        K4        K5        L3  \\\n",
       "0  5.206158  1.780938  0.256305  5.118182  1.844575  0.434604  4.645748   \n",
       "\n",
       "0        L4        L5  \n",
       "0  2.303812  0.367449  "
      ]
     },
     "execution_count": 98,
     "metadata": {},
     "output_type": "execute_result"
    }
   ],
   "source": [
    "for i in n.columns:\n",
    "    n[i] = n[i] - n['average']\n",
    "    n[n < 0] = 0\n",
    "    \n",
    "n = n.drop(['average','J6','K6','L6'], axis=1)\n",
    "\n",
    "n"
   ]
  },
  {
   "cell_type": "code",
   "execution_count": 6,
   "id": "17ad67b2",
   "metadata": {},
   "outputs": [
    {
     "data": {
      "image/png": "[encoded data removed]",
      "text/plain": [
       "<Figure size 432x288 with 1 Axes>"
      ]
     },
     "metadata": {
      "needs_background": "light"
     },
     "output_type": "display_data"
    }
   ],
   "source": [
    "sns.set_context(\"notebook\")\n",
    "test[['2µM_P','1µM_P','0.1µM_P']].plot(yerr=[test['2µM_P_std'],\n",
    "                                                          test['1µM_P_std'],\n",
    "                                                          test['0.1µM_P_std']])\n",
    "plt.legend()\n",
    "plt.ylabel(\"Active probe concentration (µM)\")\n",
    "plt.xlabel(\"Time Points\")\n",
    "plt.tight_layout()\n",
    "#plt.savefig(\"../images/SHERLOCK/probe_dilution_pt3.png\",dpi=300)\n",
    "plt.show()"
   ]
  },
  {
   "cell_type": "markdown",
   "id": "d0f7ee4c",
   "metadata": {},
   "source": [
    "fig,ax = plt.subplots(1,2)\n",
    "fig.set_size_inches(15,5)\n",
    "\n",
    "sns.set_context(\"notebook\")\n",
    "test[['0.1µM_P']].plot(yerr=[test['0.1µM_P_std']],ax=ax[0])\n",
    "test_2[['1µM_P']].plot(yerr=[test_2['1µM_P_std']],ax=ax[1])\n",
    "\n",
    "for ax in ax:\n",
    "    \n",
    "    ax.legend()\n",
    "    ax.set_ylabel(\"Fluorescence (A.U)\")\n",
    "    ax.set_xlabel(\"Time Points\")\n",
    "    \n",
    "#plt.tight_layout()\n",
    "#plt.savefig(\"images/SHERLOCK/probe_dilution_pt2.png\",dpi=300)\n",
    "plt.show()"
   ]
  },
  {
   "cell_type": "markdown",
   "id": "34812659",
   "metadata": {},
   "source": [
    "## Endpoint plots"
   ]
  },
  {
   "cell_type": "code",
   "execution_count": 127,
   "id": "3344f65e",
   "metadata": {},
   "outputs": [
    {
     "name": "stdout",
     "output_type": "stream",
     "text": [
      "      2µM_P    1µM_P   0.1µM_P\n",
      "0  5.290518  2.25523  0.509189\n"
     ]
    },
    {
     "data": {
      "image/png": "[encoded data removed]",
      "text/plain": [
       "<Figure size 432x288 with 1 Axes>"
      ]
     },
     "metadata": {
      "needs_background": "light"
     },
     "output_type": "display_data"
    }
   ],
   "source": [
    "end_point = endpoint(test)\n",
    "end_point_d = [end_point[x] for x in end_point.columns if 'std' not in x]\n",
    "end_point_d = pd.DataFrame(end_point_d).T\n",
    "print(end_point_d)\n",
    "\n",
    "sns.set_context(\"notebook\")\n",
    "sns.set_palette(\"colorblind\")\n",
    "\n",
    "end_point_d.plot(kind='bar')\n",
    "plt.legend()\n",
    "plt.xticks([])\n",
    "plt.ylabel(\"Active probe concentration (µM)\")\n",
    "plt.title(\"End-point fluorescence\")\n",
    "plt.tight_layout()\n",
    "#plt.savefig(\"../images/SHERLOCK/end_point_probes.png\",dpi=300)\n",
    "plt.show()"
   ]
  },
  {
   "cell_type": "code",
   "execution_count": 40,
   "id": "47768f76-ea06-4c63-93cb-cfb3901494b6",
   "metadata": {},
   "outputs": [
    {
     "data": {
      "image/png": "[encoded data removed]",
      "text/plain": [
       "<Figure size 432x288 with 1 Axes>"
      ]
     },
     "metadata": {
      "needs_background": "light"
     },
     "output_type": "display_data"
    }
   ],
   "source": [
    "sns.lineplot([x for x in range(len(end_point.iloc[0]))],end_point.iloc[0],color='black',marker='X',markersize=10,\n",
    "             markeredgecolor='red',markerfacecolor='red',linestyle='--')\n",
    "plt.ylabel('End-point probe concentration (µM)')\n",
    "plt.xticks([x for x in range(len(end_point.iloc[0]))],[x for x in end_point.columns])\n",
    "plt.savefig('../images/SHERLOCK/end_point.png',dpi=300)\n",
    "plt.show()"
   ]
  },
  {
   "cell_type": "code",
   "execution_count": 99,
   "id": "df415037-e602-43a8-8d8d-43fc92ce3352",
   "metadata": {},
   "outputs": [
    {
     "name": "stdout",
     "output_type": "stream",
     "text": [
      "['3', '4', '5']\n",
      "[['J3', 'K3', 'L3'], ['J4', 'K4', 'L4'], ['J5', 'K5', 'L5']]\n"
     ]
    }
   ],
   "source": [
    "m = [x for x in n.columns]\n",
    "\n",
    "duplicates = []\n",
    "for char in re.findall('[a-zA-Z]',str(m)):\n",
    "    '''\n",
    "     checking whether the character have a duplicate or not\n",
    "     str.count(char) returns the frequency of a char in the str\n",
    "\n",
    "    '''\n",
    "    if str(m).count(char) > 1:\n",
    "        []\n",
    "    ## appending to the list if it's already not present\n",
    "\n",
    "    if char not in duplicates :\n",
    "\n",
    "        duplicates.append(char)\n",
    "        \n",
    "b = list(np.array_split(re.findall(r'\\d+ ?',str(m)),len(duplicates))[0])\n",
    "\n",
    "print(b)\n",
    "\n",
    "#for each repeating number add the repeating letter \n",
    "li = []\n",
    "\n",
    "for i in b :\n",
    "    for j in duplicates :\n",
    "        li.append(j+str(i))\n",
    "        \n",
    "i = 0 \n",
    "j = 0\n",
    "name=[]\n",
    "\n",
    "while i < len(li)/3:\n",
    "    name.append([li[j],li[j+1],li[j+2]])\n",
    "    i= i +1\n",
    "    j = j+3  \n",
    "        \n",
    "print(name)"
   ]
  },
  {
   "cell_type": "code",
   "execution_count": 100,
   "id": "da3650bd-599f-411b-bee9-4fb80ffbf757",
   "metadata": {},
   "outputs": [
    {
     "name": "stdout",
     "output_type": "stream",
     "text": [
      "[0, 0, 0, 1, 1, 1, 2, 2, 2]\n"
     ]
    }
   ],
   "source": [
    "pos = [0,]\n",
    "counter = 0\n",
    "for i in range(1,len(n.columns)):\n",
    "    #print(i)\n",
    "    if i%3 == 0:\n",
    "        counter+=1\n",
    "    pos.append(counter)\n",
    "    \n",
    "print(pos)"
   ]
  },
  {
   "cell_type": "code",
   "execution_count": 101,
   "id": "85ce36cc-5738-4929-989e-234c69a927d8",
   "metadata": {},
   "outputs": [
    {
     "name": "stdout",
     "output_type": "stream",
     "text": [
      "['J3', 'K3', 'L3', 'J4', 'K4', 'L4', 'J5', 'K5', 'L5']\n"
     ]
    }
   ],
   "source": [
    "na = []\n",
    "for i in name:\n",
    "    for j in i:\n",
    "        na.append(j)\n",
    "        \n",
    "print(na)"
   ]
  },
  {
   "cell_type": "code",
   "execution_count": 112,
   "id": "cf027443-9ab9-4572-824d-e9d2340a0948",
   "metadata": {},
   "outputs": [
    {
     "data": {
      "image/png": "[encoded data removed]",
      "text/plain": [
       "<Figure size 432x288 with 1 Axes>"
      ]
     },
     "metadata": {
      "needs_background": "light"
     },
     "output_type": "display_data"
    }
   ],
   "source": [
    "counter = 0\n",
    "plt.bar([0,1,2],end_point.iloc[0],alpha=0.7)\n",
    "\n",
    "for i in na:\n",
    "        plt.scatter(pos[counter],n[i].iloc[0],color='black',s=25)\n",
    "        counter+=1\n",
    "        \n",
    "plt.ylabel('End-point probe concentration (µM)')\n",
    "plt.xticks([x for x in range(len(end_point.columns))],[x for x in end_point.columns])\n",
    "#plt.savefig('../images/SHERLOCK/end_point_2.png',dpi=300)\n",
    "plt.show()"
   ]
  },
  {
   "cell_type": "code",
   "execution_count": 128,
   "id": "549c541c-415c-4080-83fa-11d59635c8c8",
   "metadata": {},
   "outputs": [
    {
     "data": {
      "text/html": [
       "<div>\n",
       "<style scoped>\n",
       "    .dataframe tbody tr th:only-of-type {\n",
       "        vertical-align: middle;\n",
       "    }\n",
       "\n",
       "    .dataframe tbody tr th {\n",
       "        vertical-align: top;\n",
       "    }\n",
       "\n",
       "    .dataframe thead th {\n",
       "        text-align: right;\n",
       "    }\n",
       "</style>\n",
       "<table border=\"1\" class=\"dataframe\">\n",
       "  <thead>\n",
       "    <tr style=\"text-align: right;\">\n",
       "      <th></th>\n",
       "      <th>2µM_P_std</th>\n",
       "      <th>1µM_P_std</th>\n",
       "      <th>0.1µM_P_std</th>\n",
       "    </tr>\n",
       "  </thead>\n",
       "  <tbody>\n",
       "    <tr>\n",
       "      <th>0</th>\n",
       "      <td>0.339373</td>\n",
       "      <td>0.357989</td>\n",
       "      <td>0.154478</td>\n",
       "    </tr>\n",
       "  </tbody>\n",
       "</table>\n",
       "</div>"
      ],
      "text/plain": [
       "   2µM_P_std  1µM_P_std  0.1µM_P_std\n",
       "0   0.339373   0.357989     0.154478"
      ]
     },
     "execution_count": 128,
     "metadata": {},
     "output_type": "execute_result"
    }
   ],
   "source": [
    "std = [end_point[x] for x in end_point.columns if 'std' in x]\n",
    "std = pd.DataFrame(std).T\n",
    "\n",
    "std"
   ]
  },
  {
   "cell_type": "code",
   "execution_count": 136,
   "id": "280c1601",
   "metadata": {},
   "outputs": [
    {
     "data": {
      "image/png": "[encoded data removed]",
      "text/plain": [
       "<Figure size 432x288 with 1 Axes>"
      ]
     },
     "metadata": {
      "needs_background": "light"
     },
     "output_type": "display_data"
    }
   ],
   "source": [
    "#end_point_d.plot(kind='bar')\n",
    "\n",
    "plt.errorbar([x for x in range(len(end_point_d.iloc[0]))],end_point_d.iloc[0],yerr=std.iloc[0],\n",
    "            fmt=\"o\", color=\"r\")\n",
    "\n",
    "sns.barplot([0,1,2],end_point_d.iloc[0],alpha=0.7)\n",
    "plt.ylabel('End-point active probe concentration (µM)')\n",
    "plt.xticks([x for x in range(len(end_point_d.columns))],['2µM','1µM','0.1µM'])\n",
    "plt.xlabel('Initial inactive probe concentration')\n",
    "plt.savefig('../images/SHERLOCK/end_point_2.png',dpi=300)\n",
    "plt.show()"
   ]
  },
  {
   "cell_type": "code",
   "execution_count": null,
   "id": "ee898556-7a39-4645-adc1-fd92975c3d48",
   "metadata": {},
   "outputs": [],
   "source": []
  }
 ],
 "metadata": {
  "kernelspec": {
   "display_name": "Python 3 (ipykernel)",
   "language": "python",
   "name": "python3"
  },
  "language_info": {
   "codemirror_mode": {
    "name": "ipython",
    "version": 3
   },
   "file_extension": ".py",
   "mimetype": "text/x-python",
   "name": "python",
   "nbconvert_exporter": "python",
   "pygments_lexer": "ipython3",
   "version": "3.10.8"
  }
 },
 "nbformat": 4,
 "nbformat_minor": 5
}
